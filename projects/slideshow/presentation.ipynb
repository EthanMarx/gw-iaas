{
 "cells": [
  {
   "cell_type": "markdown",
   "id": "d22a8f06",
   "metadata": {
    "slideshow": {
     "slide_type": "slide"
    }
   },
   "source": [
    "# Enabling Deep Learning in Gravitational Wave Physics With Inference-as-a-Service\n",
    "## Alec Gunny"
   ]
  },
  {
   "cell_type": "markdown",
   "id": "20874eee",
   "metadata": {
    "slideshow": {
     "slide_type": "subslide"
    }
   },
   "source": [
    "## Deep Learning in Gravitational Wave Astronomy\n",
    "<img src=\"images/gw-dl-use-cases.png\" height=\"auto\" width=\"980px\" style=\"top:10px;\"></img>"
   ]
  },
  {
   "cell_type": "markdown",
   "id": "73cebc08",
   "metadata": {
    "slideshow": {
     "slide_type": "subslide"
    }
   },
   "source": [
    "## Inference Time Challenges\n",
    "<div class=\"float200 padded\">\n",
    "    <img src=\"images/hardware-logos.png\" width=\"300px\" height=\"auto\" class=\"right unpadded\"/>\n",
    "    <p class=\"left\">Access to and familiarity with accelerated hardware</p>\n",
    "</div>\n",
    "\n",
    "<div>\n",
    "    <img src=\"images/framework-logos.png\" width=\"300px\" height=\"auto\" class=\"left padded\" />\n",
    "    <p class=\"right\"> Managing, leveraging, and translating across deep learning software stacks\n",
    "</div>\n",
    "\n",
    "<div></div>\n",
    "<div></div>\n",
    "<div class=\"float100\">\n",
    "    <img src=\"images/distributing-nns.png\" width=\"250px\" height=\"auto\" class=\"right unpadded\"/>\n",
    "    <p class=\"left\">Distributing updated models to dependent users and applications</p>\n",
    "</div>"
   ]
  },
  {
   "cell_type": "markdown",
   "id": "785bd3b1",
   "metadata": {
    "slideshow": {
     "slide_type": "slide"
    }
   },
   "source": [
    "## A simple PyTorch example\n",
    "- Naive inference pipeline for a model trained using PyTorch\n",
    "- Pipeline itself loads the model and data onto the GPU and executes inference"
   ]
  },
  {
   "cell_type": "code",
   "execution_count": 1,
   "id": "3fabf2f3",
   "metadata": {
    "cell_style": "center",
    "slideshow": {
     "slide_type": "-"
    }
   },
   "outputs": [],
   "source": [
    "import time\n",
    "from concurrent.futures import ThreadPoolExecutor\n",
    "from queue import Empty, Queue\n",
    "\n",
    "import numpy as np\n",
    "import torch\n",
    "\n",
    "import utils"
   ]
  },
  {
   "cell_type": "markdown",
   "id": "92234296",
   "metadata": {
    "slideshow": {
     "slide_type": "subslide"
    }
   },
   "source": [
    "Instantiate a simple model, \"train\" it, then save it for inference:"
   ]
  },
  {
   "cell_type": "code",
   "execution_count": 2,
   "id": "bea2ddc5",
   "metadata": {},
   "outputs": [],
   "source": [
    "class MLP(torch.nn.Module):\n",
    "    def __init__(self, input_size, hidden_sizes):\n",
    "        super().__init__()\n",
    "\n",
    "        self.layers = torch.nn.ModuleList()\n",
    "        for size in hidden_sizes:\n",
    "            self.layers.append(torch.nn.Linear(input_size, size))\n",
    "            self.layers.append(torch.nn.ReLU())\n",
    "            input_size = size\n",
    "\n",
    "        self.layers.append(torch.nn.Linear(input_size, 1))\n",
    "        self.layers.append(torch.nn.Sigmoid())\n",
    "\n",
    "    def forward(self, x: torch.tensor) -> torch.tensor:\n",
    "        for layer in self.layers:\n",
    "            x = layer(x)\n",
    "        return x\n",
    "\n",
    "INPUT_SIZE, HIDDEN_SIZES = 64, [256, 128, 64]\n",
    "model = MLP(INPUT_SIZE, HIDDEN_SIZES).cuda(device=0)\n",
    "\n",
    "# do_some_training(model) -> export the trained weights\n",
    "torch.save(model.state_dict(), \"model.pt\")"
   ]
  },
  {
   "cell_type": "markdown",
   "id": "f0d06e6f",
   "metadata": {
    "slideshow": {
     "slide_type": "subslide"
    }
   },
   "source": [
    "At inference time, load in the model weights and use it to map inputs to outputs"
   ]
  },
  {
   "cell_type": "code",
   "execution_count": 3,
   "id": "858cd8bc",
   "metadata": {
    "slideshow": {
     "slide_type": "-"
    }
   },
   "outputs": [
    {
     "data": {
      "text/plain": [
       "array([0.53046507], dtype=float32)"
      ]
     },
     "execution_count": 3,
     "metadata": {},
     "output_type": "execute_result"
    }
   ],
   "source": [
    "inference_model = MLP(INPUT_SIZE, HIDDEN_SIZES).cuda(0)\n",
    "inference_model.load_state_dict(torch.load(\"model.pt\"))\n",
    "\n",
    "# create an array on the CPU\n",
    "x = np.random.randn(INPUT_SIZE).astype(\"float32\")\n",
    "with torch.no_grad():\n",
    "    # move it on to the GPU\n",
    "    x = torch.from_numpy(x).cuda(0)\n",
    "\n",
    "    # map it to outputs on the GPU\n",
    "    y = inference_model(x)\n",
    "\n",
    "# move the outputs back on to the CPU\n",
    "y.cpu().numpy()"
   ]
  },
  {
   "cell_type": "markdown",
   "id": "c40c846d",
   "metadata": {
    "slideshow": {
     "slide_type": "subslide"
    }
   },
   "source": [
    "- Generally interested in using the model for many thousands or millions of inferences\n",
    "- Start with the simplest case: a dataset that can fit into memory at once"
   ]
  },
  {
   "cell_type": "code",
   "execution_count": 4,
   "id": "0b55ac3d",
   "metadata": {
    "slideshow": {
     "slide_type": "-"
    }
   },
   "outputs": [
    {
     "name": "stdout",
     "output_type": "stream",
     "text": [
      "CPU times: user 17.3 s, sys: 146 ms, total: 17.5 s\n",
      "Wall time: 17.5 s\n"
     ]
    }
   ],
   "source": [
    "dataset = np.random.randn(5 * 10**5, 64).astype(\"float32\")\n",
    "\n",
    "@torch.no_grad()\n",
    "def do_some_inference(model, dataset, batch_size=8, device_index=0):\n",
    "    # move the data to the GPU in bulk\n",
    "    gpu_dataset = torch.from_numpy(dataset).cuda(device_index)\n",
    "\n",
    "    # iterate through it in batches and yield predictions\n",
    "    dataset = torch.utils.data.TensorDataset(gpu_dataset)\n",
    "    for [x] in torch.utils.data.DataLoader(dataset, batch_size=batch_size):\n",
    "        y = model(x)\n",
    "        yield y.cpu().numpy()\n",
    "\n",
    "# run through the dataset and get a rough time estimate\n",
    "%time outputs = [y for y in do_some_inference(inference_model, dataset)]"
   ]
  },
  {
   "cell_type": "markdown",
   "id": "27c72d79",
   "metadata": {
    "slideshow": {
     "slide_type": "subslide"
    }
   },
   "source": [
    "Ok, but how well are we utilizing the GPU?"
   ]
  },
  {
   "cell_type": "code",
   "execution_count": 5,
   "id": "871dcaac",
   "metadata": {
    "scrolled": true,
    "slideshow": {
     "slide_type": "-"
    }
   },
   "outputs": [
    {
     "data": {
      "application/vnd.jupyter.widget-view+json": {
       "model_id": "049a9167bd844ccbbb0ac7ce0afb4b6e",
       "version_major": 2,
       "version_minor": 0
      },
      "text/plain": [
       "Output()"
      ]
     },
     "metadata": {},
     "output_type": "display_data"
    }
   ],
   "source": [
    "with utils.GpuUtilProgress(gpu_ids=0) as progbar:\n",
    "    task_id = progbar.add_task(\"[cyan]Inference\", total=len(dataset))\n",
    "\n",
    "    outputs = []\n",
    "    for y in do_some_inference(model, dataset):\n",
    "        outputs.append(y)\n",
    "        progbar.update(task_id, advance=len(y))\n",
    "\n",
    "output = np.concatenate(outputs, axis=0)"
   ]
  },
  {
   "cell_type": "markdown",
   "id": "aebc980d",
   "metadata": {
    "slideshow": {
     "slide_type": "subslide"
    }
   },
   "source": [
    "- Not very well! GPUs are expensive, can we improve things via parallel execution (assuming we can't change the batch size)?\n",
    "- First attempt: Naive (and sloppy) implementation using threading"
   ]
  },
  {
   "cell_type": "code",
   "execution_count": 6,
   "id": "d7c22113",
   "metadata": {},
   "outputs": [
    {
     "data": {
      "application/vnd.jupyter.widget-view+json": {
       "model_id": "4fb3c8363f794e02b2599fdd4f9351ec",
       "version_major": 2,
       "version_minor": 0
      },
      "text/plain": [
       "Output()"
      ]
     },
     "metadata": {},
     "output_type": "display_data"
    }
   ],
   "source": [
    "q = Queue()\n",
    "def task(dataset_chunk):\n",
    "    model = MLP(INPUT_SIZE, HIDDEN_SIZES).cuda(0)\n",
    "    model.load_state_dict(torch.load(\"model.pt\"))\n",
    "\n",
    "    for y in do_some_inference(model, dataset_chunk):\n",
    "        q.put(y)\n",
    "\n",
    "with utils.GpuUtilProgress(0) as progbar, ThreadPoolExecutor(4) as pool:\n",
    "    task_id = progbar.add_task(\"Inference with 4 jobs\", total=len(dataset))\n",
    "    [pool.submit(task, x) for x in np.array_split(dataset, 4)]\n",
    "\n",
    "    outputs = []\n",
    "    while len(outputs) < len(dataset):\n",
    "        y = q.get()\n",
    "        progbar.update(task_id, advance=len(y))\n",
    "        outputs.extend(y)"
   ]
  },
  {
   "cell_type": "markdown",
   "id": "42d2946d",
   "metadata": {
    "slideshow": {
     "slide_type": "subslide"
    }
   },
   "source": [
    "Not much help. What next?\n",
    "\n",
    "After spending a few hours perusing the PyTorch documentation, we come up with the following basic functional implementation:"
   ]
  },
  {
   "cell_type": "code",
   "execution_count": 7,
   "id": "200d0109",
   "metadata": {
    "slideshow": {
     "slide_type": "fragment"
    }
   },
   "outputs": [],
   "source": [
    "def parallel_inference(X, num_gpus, jobs_per_gpu, progbar):\n",
    "    num_jobs = num_gpus * jobs_per_gpu\n",
    "    task_id = progbar.add_task(\n",
    "        f\"[cyan]{num_gpus} GPUs/{num_jobs} jobs\",\n",
    "        total=len(X),\n",
    "        start=False\n",
    "    )\n",
    "\n",
    "    # we need special queue and value objects\n",
    "    # specific to process spawning\n",
    "    smp = torch.multiprocessing.get_context(\"spawn\")\n",
    "    q = smp.Queue()\n",
    "    sync = smp.Value(\"d\", 0.0)\n",
    "\n",
    "    # pass a bunch of arguments into each\n",
    "    # process that we need to spawn\n",
    "    # note that we have to pass copies of some\n",
    "    # of our local functions that live in `utils`\n",
    "    # since we can't unpickle elsewhere functions\n",
    "    # which are defined in __main__\n",
    "    args = (\n",
    "        X,  # the full dataset\n",
    "        utils.MLP,  # the module class to use for inference\n",
    "        [INPUT_SIZE, HIDDEN_SIZES],  # arguments to initialize the module\n",
    "        utils.do_some_inference,  # the inference funcntion to use\n",
    "        q,  # the queue to put the results in\n",
    "        sync,  # a task synchronizer\n",
    "        jobs_per_gpu,\n",
    "        num_gpus\n",
    "    )\n",
    "\n",
    "    # spawn parallel jobs across all GPUs.\n",
    "    # We have to host the `parallel_inference_task` function\n",
    "    # in a separate module for the same pickling pickle\n",
    "    # described above\n",
    "    procs = torch.multiprocessing.spawn(\n",
    "        utils.parallel_inference_task,\n",
    "        args=args,\n",
    "        nprocs=num_jobs,\n",
    "        join=False\n",
    "    )\n",
    "\n",
    "    # wait to synchronize until all models load\n",
    "    # so that we can compare throughput better\n",
    "    while sync.value < num_jobs:\n",
    "        time.sleep(0.01)\n",
    "\n",
    "    # increment the synchronizer one more\n",
    "    # time to kick off the jobs\n",
    "    sync.value += 1\n",
    "    progbar.start_task(task_id)\n",
    "\n",
    "    # collect all the (unordered) inputs\n",
    "    outputs = []\n",
    "    while True:\n",
    "        try:\n",
    "            # try to get the next result in\n",
    "            # in the queue and increment everything\n",
    "            y = q.get_nowait()\n",
    "            progbar.update(task_id, advance=len(y))\n",
    "            outputs.append(y)\n",
    "        except Empty:\n",
    "            # if there's nothing in the queue and\n",
    "            # all the jobs are dead, we're done\n",
    "            if procs.join(0.01):\n",
    "                break\n",
    "\n",
    "    # concatenate the outputs and return\n",
    "    return np.concatenate(outputs, axis=0)"
   ]
  },
  {
   "cell_type": "markdown",
   "id": "cda6fcf9",
   "metadata": {
    "slideshow": {
     "slide_type": "subslide"
    }
   },
   "source": [
    "Run this at a few different scales to see what we can achieve:"
   ]
  },
  {
   "cell_type": "code",
   "execution_count": 8,
   "id": "b1355e87",
   "metadata": {
    "slideshow": {
     "slide_type": "-"
    }
   },
   "outputs": [
    {
     "data": {
      "application/vnd.jupyter.widget-view+json": {
       "model_id": "21123694c1df4f36b8e090451d87c79e",
       "version_major": 2,
       "version_minor": 0
      },
      "text/plain": [
       "Output()"
      ]
     },
     "metadata": {},
     "output_type": "display_data"
    }
   ],
   "source": [
    "with utils.GpuUtilProgress([0, 1]) as progbar:\n",
    "    y = parallel_inference(dataset, num_gpus=1, jobs_per_gpu=2, progbar=progbar)\n",
    "    y = parallel_inference(dataset, num_gpus=1, jobs_per_gpu=4, progbar=progbar)\n",
    "    y = parallel_inference(dataset, num_gpus=2, jobs_per_gpu=4, progbar=progbar)"
   ]
  },
  {
   "cell_type": "markdown",
   "id": "a425f180",
   "metadata": {
    "slideshow": {
     "slide_type": "subslide"
    }
   },
   "source": [
    "It manages to increase GPU utilization pretty well! But:\n",
    "- Framework specific\n",
    "    - No help if we want to extend to other frameworks\n",
    "    - Torch is pretty unique in having this functionality at all\n",
    "- The code is complicated and required a lot of non-physics expertise to build\n",
    "    - Non-trivial to reconstruct for new applications\n",
    "- Extremely contrived example, breaks down in most real use cases\n",
    "    - Explore a few cases to show how"
   ]
  },
  {
   "cell_type": "markdown",
   "id": "ae3aa3e3",
   "metadata": {
    "slideshow": {
     "slide_type": "subslide"
    }
   },
   "source": [
    "## Throughput too low\n",
    "#### _The constraints of our use case demand that we further reduce processing time by an order of magnitude_\n",
    "- Not obvious how to simply extend this code to multi-node\n",
    "- Scaling not dynamic\n",
    "    - Have to pick a level of parallelism and hope the resources are available to use it"
   ]
  },
  {
   "cell_type": "markdown",
   "id": "22b65e07",
   "metadata": {
    "slideshow": {
     "slide_type": "subslide"
    }
   },
   "source": [
    "## Throughput too high\n",
    "####  _Data generation process is slow, needs to be parallelized to saturate GPU throughput_"
   ]
  },
  {
   "cell_type": "code",
   "execution_count": 5,
   "id": "7e196bcc",
   "metadata": {},
   "outputs": [],
   "source": [
    "class ThrottledDataset(torch.utils.data.IterableDataset):\n",
    "    def __init__(self, x, device_index=0):\n",
    "        self.x = torch.from_numpy(x).cuda(device_index)\n",
    "\n",
    "    def __iter__(self):\n",
    "        self.it = iter(self.x)\n",
    "        return self\n",
    "\n",
    "    def __next__(self):\n",
    "        x = next(self.it)\n",
    "        time.sleep(0.001)\n",
    "        return x\n",
    "\n",
    "\n",
    "@torch.no_grad()\n",
    "def do_some_throttled_inference(model, dataset, batch_size=8, device_index=0):\n",
    "    gpu_dataset = ThrottledDataset(dataset, device_index)\n",
    "    for x in torch.utils.data.DataLoader(gpu_dataset, batch_size=batch_size):\n",
    "        y = model(x)\n",
    "        yield y.cpu().numpy()"
   ]
  },
  {
   "cell_type": "markdown",
   "id": "51590789",
   "metadata": {
    "slideshow": {
     "slide_type": "subslide"
    }
   },
   "source": [
    "## Throughput too high\n",
    "Reimplement parallel inference with our new inference function"
   ]
  },
  {
   "cell_type": "code",
   "execution_count": 6,
   "id": "d771c527",
   "metadata": {
    "slideshow": {
     "slide_type": "-"
    }
   },
   "outputs": [],
   "source": [
    "def throttled_parallel_inference(X, num_gpus, jobs_per_gpu, progbar):\n",
    "    num_jobs = num_gpus * jobs_per_gpu\n",
    "    task_id = progbar.add_task(\n",
    "        f\"[cyan]{num_gpus} GPUs/{num_jobs} jobs\",\n",
    "        total=len(X),\n",
    "        start=False\n",
    "    )\n",
    "\n",
    "    # we need special queue and value objects\n",
    "    # specific to process spawning\n",
    "    smp = torch.multiprocessing.get_context(\"spawn\")\n",
    "    q = smp.Queue()\n",
    "    sync = smp.Value(\"d\", 0.0)\n",
    "\n",
    "    # pass a bunch of arguments into each\n",
    "    # process that we need to spawn\n",
    "    # note that we have to pass copies of some\n",
    "    # of our local functions that live in `utils`\n",
    "    # since we can't pickle functions defined\n",
    "    # in __main__\n",
    "    args = (\n",
    "        X,  # the full dataset\n",
    "        utils.MLP,  # the module class to use for inference\n",
    "        [INPUT_SIZE, HIDDEN_SIZES],  # arguments to initialize the module\n",
    "        utils.do_some_throttled_inference,  # the inference funcntion to use\n",
    "        q,  # the queue to put the results in\n",
    "        sync,  # a task synchronizer\n",
    "        jobs_per_gpu,\n",
    "        num_gpus\n",
    "    )\n",
    "\n",
    "    # spawn a bunch of parallel jobs across all GPUs\n",
    "    # have to host the `parallel_inference_task` in\n",
    "    # a separate module for weird multiprocessing reasons\n",
    "    procs = torch.multiprocessing.spawn(\n",
    "        utils.parallel_inference_task,\n",
    "        args=args,\n",
    "        nprocs=num_jobs,\n",
    "        join=False\n",
    "    )\n",
    "\n",
    "    # wait to synchronize until all models load\n",
    "    # so that we can compare throughput better\n",
    "    while sync.value < num_jobs:\n",
    "        time.sleep(0.01)\n",
    "\n",
    "    # increment the starter to kick off the jobs\n",
    "    sync.value += 1\n",
    "    progbar.start_task(task_id)\n",
    "\n",
    "    # collect all the (unordered) inputs\n",
    "    outputs = []\n",
    "    while True:\n",
    "        try:\n",
    "            y = q.get_nowait()\n",
    "            progbar.update(task_id, advance=len(y))\n",
    "            outputs.append(y)\n",
    "        except Empty:\n",
    "            # if there's nothing in the queue and\n",
    "            # all the jobs are dead, we're done\n",
    "            if procs.join(0.01):\n",
    "                break\n",
    "\n",
    "    # concatenate the outputs and return\n",
    "    return np.concatenate(outputs, axis=0)"
   ]
  },
  {
   "cell_type": "markdown",
   "id": "92c0c7cc",
   "metadata": {
    "slideshow": {
     "slide_type": "subslide"
    }
   },
   "source": [
    "## Throughput too high"
   ]
  },
  {
   "cell_type": "code",
   "execution_count": 7,
   "id": "4a8d086b",
   "metadata": {
    "slideshow": {
     "slide_type": "-"
    }
   },
   "outputs": [
    {
     "data": {
      "application/vnd.jupyter.widget-view+json": {
       "model_id": "5247540f83b04065a118b6176bb0012e",
       "version_major": 2,
       "version_minor": 0
      },
      "text/plain": [
       "Output()"
      ]
     },
     "metadata": {},
     "output_type": "display_data"
    }
   ],
   "source": [
    "x = dataset[:2 * 10**4]  # this will take longer, so just do a few for demo purposes\n",
    "with utils.GpuUtilProgress([0, 1]) as progbar:\n",
    "    y = throttled_parallel_inference(x, 1, 1, progbar=progbar)\n",
    "    y = throttled_parallel_inference(x, 1, 2, progbar=progbar)\n",
    "    y = throttled_parallel_inference(x, 1, 4, progbar=progbar)"
   ]
  },
  {
   "cell_type": "markdown",
   "id": "806a1bd6",
   "metadata": {
    "slideshow": {
     "slide_type": "subslide"
    }
   },
   "source": [
    "## Model ensembling\n",
    "#### _Connecting multiple models in a single pipeline_\n",
    "![Model sharing](images/model_sharing.png \"Model sharing\")\n",
    "![Model ensemble](images/model_ensemble.png \"Model ensemble\")"
   ]
  },
  {
   "cell_type": "markdown",
   "id": "473e8efa",
   "metadata": {
    "slideshow": {
     "slide_type": "subslide"
    }
   },
   "source": [
    "## Model ensembling\n",
    "Naive implemenation"
   ]
  },
  {
   "cell_type": "code",
   "execution_count": 12,
   "id": "a25a52d8",
   "metadata": {
    "scrolled": true
   },
   "outputs": [
    {
     "data": {
      "application/vnd.jupyter.widget-view+json": {
       "model_id": "59fb8233b9954e3882490a32c6052385",
       "version_major": 2,
       "version_minor": 0
      },
      "text/plain": [
       "Output()"
      ]
     },
     "metadata": {},
     "output_type": "display_data"
    }
   ],
   "source": [
    "@torch.no_grad()\n",
    "def do_some_multi_model_inference(models, dataset, batch_size=8, device_index=0):\n",
    "    gpu_dataset = torch.from_numpy(dataset).cuda(device_index)\n",
    "    dataset = torch.utils.data.TensorDataset(gpu_dataset)\n",
    "\n",
    "    for [x] in torch.utils.data.DataLoader(dataset, batch_size=batch_size):\n",
    "        for model in models:\n",
    "            x = model(x)\n",
    "        yield x.cpu().numpy()\n",
    "\n",
    "noise_remover = utils.NoiseRemovalModel(INPUT_SIZE, [32, 16]).cuda(0)\n",
    "models = [noise_remover, inference_model]\n",
    "\n",
    "with utils.GpuUtilProgress(0) as progbar:\n",
    "    task_id = progbar.add_task(\"[cyan]Inference\", total=len(dataset))\n",
    "    for y in do_some_multi_model_inference(models, dataset):\n",
    "        progbar.update(task_id, advance=len(y))"
   ]
  },
  {
   "cell_type": "markdown",
   "id": "8d33b6c1",
   "metadata": {},
   "source": [
    "## Model Ensembling\n",
    "Extension to parallel execution non-trivial:\n",
    "- Each model should execute asynchronously\n",
    "- Usually will need _different_ levels of parallelism to alleviate bottlenecks\n",
    "\n",
    "![Bottleneck](images/bottleneck.png \"Bottleneck\")\n",
    "![Alleviated bottleneck](images/bottleneck-alleviate.png \"Alleviated bottleneck\")\n",
    "\n",
    "- Pass tensors between GPUs to best utilize hardware\n",
    "- Almost impossible if the other model utilizes a different framework"
   ]
  },
  {
   "cell_type": "markdown",
   "id": "5d00c689",
   "metadata": {
    "slideshow": {
     "slide_type": "subslide"
    }
   },
   "source": [
    "## Distribution\n",
    "What if you want someone with no background in any of this to use your application? Or more likely, to plug it into their application?"
   ]
  },
  {
   "cell_type": "markdown",
   "id": "44dfc24a",
   "metadata": {
    "slideshow": {
     "slide_type": "slide"
    }
   },
   "source": [
    "## Inference-as-a-Service"
   ]
  }
 ],
 "metadata": {
  "celltoolbar": "Slideshow",
  "kernelspec": {
   "display_name": "Python 3 (ipykernel)",
   "language": "python",
   "name": "python3"
  },
  "language_info": {
   "codemirror_mode": {
    "name": "ipython",
    "version": 3
   },
   "file_extension": ".py",
   "mimetype": "text/x-python",
   "name": "python",
   "nbconvert_exporter": "python",
   "pygments_lexer": "ipython3",
   "version": "3.9.1"
  },
  "rise": {
   "autolaunch": true,
   "enable_chalkboard": true,
   "scroll": true,
   "slideNumber": true,
   "theme": "simple"
  }
 },
 "nbformat": 4,
 "nbformat_minor": 5
}
