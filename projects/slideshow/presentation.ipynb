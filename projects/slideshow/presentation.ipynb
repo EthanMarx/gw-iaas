{
 "cells": [
  {
   "cell_type": "markdown",
   "id": "d22a8f06",
   "metadata": {
    "slideshow": {
     "slide_type": "slide"
    }
   },
   "source": [
    "# Enabling Deep Learning in Gravitational Wave Physics With Inference-as-a-Service\n",
    "## Alec Gunny"
   ]
  },
  {
   "cell_type": "markdown",
   "id": "20874eee",
   "metadata": {
    "slideshow": {
     "slide_type": "subslide"
    }
   },
   "source": [
    "## Deep Learning in Gravitational Wave Astronomy\n",
    "<img src=\"images/gw-dl-use-cases.png\" height=\"auto\" width=\"980px\" style=\"top:10px;\"></img>"
   ]
  },
  {
   "cell_type": "markdown",
   "id": "73cebc08",
   "metadata": {
    "slideshow": {
     "slide_type": "subslide"
    }
   },
   "source": [
    "## Inference Time Challenges\n",
    "<div class=\"float200 padded\">\n",
    "    <img src=\"images/hardware-logos.png\" width=\"300px\" height=\"auto\" class=\"right unpadded\"/>\n",
    "    <p class=\"left\">Access to and familiarity with accelerated hardware</p>\n",
    "</div>\n",
    "\n",
    "<div>\n",
    "    <img src=\"images/framework-logos.png\" width=\"300px\" height=\"auto\" class=\"left padded\" />\n",
    "    <p class=\"right\"> Managing, leveraging, and translating across deep learning software stacks\n",
    "</div>\n",
    "\n",
    "<div></div>\n",
    "<div></div>\n",
    "<div class=\"float100\">\n",
    "    <img src=\"images/distributing-nns.png\" width=\"250px\" height=\"auto\" class=\"right unpadded\"/>\n",
    "    <p class=\"left\">Distributing updated models to dependent users and applications</p>\n",
    "</div>"
   ]
  },
  {
   "cell_type": "markdown",
   "id": "785bd3b1",
   "metadata": {
    "slideshow": {
     "slide_type": "slide"
    }
   },
   "source": [
    "## A simple PyTorch example\n",
    "- Naive inference pipeline for a model trained using PyTorch\n",
    "- Pipeline itself loads the model and data onto the GPU and executes inference"
   ]
  },
  {
   "cell_type": "code",
   "execution_count": 1,
   "id": "3fabf2f3",
   "metadata": {
    "cell_style": "center",
    "slideshow": {
     "slide_type": "-"
    }
   },
   "outputs": [],
   "source": [
    "import time\n",
    "from concurrent.futures import ThreadPoolExecutor\n",
    "from queue import Empty, Queue\n",
    "\n",
    "import numpy as np\n",
    "import torch\n",
    "\n",
    "import utils"
   ]
  },
  {
   "cell_type": "markdown",
   "id": "92234296",
   "metadata": {
    "slideshow": {
     "slide_type": "subslide"
    }
   },
   "source": [
    "Instantiate a simple model, \"train\" it, then save it for inference:"
   ]
  },
  {
   "cell_type": "code",
   "execution_count": 2,
   "id": "bea2ddc5",
   "metadata": {},
   "outputs": [],
   "source": [
    "class MLP(torch.nn.Module):\n",
    "    def __init__(self, input_size, hidden_sizes):\n",
    "        super().__init__()\n",
    "\n",
    "        self.layers = torch.nn.ModuleList()\n",
    "        for size in hidden_sizes:\n",
    "            self.layers.append(torch.nn.Linear(input_size, size))\n",
    "            self.layers.append(torch.nn.ReLU())\n",
    "            input_size = size\n",
    "\n",
    "        self.layers.append(torch.nn.Linear(input_size, 1))\n",
    "        self.layers.append(torch.nn.Sigmoid())\n",
    "\n",
    "    def forward(self, x: torch.tensor) -> torch.tensor:\n",
    "        for layer in self.layers:\n",
    "            x = layer(x)\n",
    "        return x\n",
    "\n",
    "INPUT_SIZE, HIDDEN_SIZES = 64, [256, 128, 64]\n",
    "model = MLP(INPUT_SIZE, HIDDEN_SIZES).cuda(device=0)\n",
    "\n",
    "# do_some_training(model) -> export the trained weights\n",
    "torch.save(model.state_dict(), \"model.pt\")"
   ]
  },
  {
   "cell_type": "markdown",
   "id": "f0d06e6f",
   "metadata": {
    "slideshow": {
     "slide_type": "subslide"
    }
   },
   "source": [
    "At inference time, load in the model weights and use it to map inputs to outputs"
   ]
  },
  {
   "cell_type": "code",
   "execution_count": 3,
   "id": "858cd8bc",
   "metadata": {
    "slideshow": {
     "slide_type": "-"
    }
   },
   "outputs": [
    {
     "data": {
      "text/plain": [
       "array([0.47049186], dtype=float32)"
      ]
     },
     "execution_count": 3,
     "metadata": {},
     "output_type": "execute_result"
    }
   ],
   "source": [
    "inference_model = MLP(INPUT_SIZE, HIDDEN_SIZES).cuda(0)\n",
    "inference_model.load_state_dict(torch.load(\"model.pt\"))\n",
    "\n",
    "# create an array on the CPU\n",
    "x = np.random.randn(INPUT_SIZE).astype(\"float32\")\n",
    "with torch.no_grad():\n",
    "    # move it on to the GPU\n",
    "    x = torch.from_numpy(x).cuda(0)\n",
    "\n",
    "    # map it to outputs on the GPU\n",
    "    y = inference_model(x)\n",
    "\n",
    "# move the outputs back on to the CPU\n",
    "y.cpu().numpy()"
   ]
  },
  {
   "cell_type": "markdown",
   "id": "c40c846d",
   "metadata": {
    "slideshow": {
     "slide_type": "subslide"
    }
   },
   "source": [
    "- Generally interested in using the model for many thousands or millions of inferences\n",
    "- Start with the simplest case: a dataset that can fit into memory at once"
   ]
  },
  {
   "cell_type": "code",
   "execution_count": 4,
   "id": "0b55ac3d",
   "metadata": {
    "slideshow": {
     "slide_type": "-"
    }
   },
   "outputs": [
    {
     "name": "stdout",
     "output_type": "stream",
     "text": [
      "CPU times: user 17.6 s, sys: 205 ms, total: 17.8 s\n",
      "Wall time: 17.8 s\n"
     ]
    }
   ],
   "source": [
    "dataset = np.random.randn(5 * 10**5, 64).astype(\"float32\")\n",
    "\n",
    "@torch.no_grad()\n",
    "def do_some_inference(model, dataset, batch_size=8, device_index=0):\n",
    "    # move the data to the GPU in bulk\n",
    "    gpu_dataset = torch.from_numpy(dataset).cuda(device_index)\n",
    "\n",
    "    # iterate through it in batches and yield predictions\n",
    "    dataset = torch.utils.data.TensorDataset(gpu_dataset)\n",
    "    for [x] in torch.utils.data.DataLoader(dataset, batch_size=batch_size):\n",
    "        y = model(x)\n",
    "        yield y.cpu().numpy()\n",
    "\n",
    "# run through the dataset and get a rough time estimate\n",
    "%time outputs = [y for y in do_some_inference(inference_model, dataset)]"
   ]
  },
  {
   "cell_type": "markdown",
   "id": "27c72d79",
   "metadata": {
    "slideshow": {
     "slide_type": "subslide"
    }
   },
   "source": [
    "Ok, but how well are we utilizing the GPU?"
   ]
  },
  {
   "cell_type": "code",
   "execution_count": 5,
   "id": "871dcaac",
   "metadata": {
    "scrolled": true,
    "slideshow": {
     "slide_type": "-"
    }
   },
   "outputs": [
    {
     "data": {
      "application/vnd.jupyter.widget-view+json": {
       "model_id": "b2d84a70295a47f2b2df990508d9d629",
       "version_major": 2,
       "version_minor": 0
      },
      "text/plain": [
       "Output()"
      ]
     },
     "metadata": {},
     "output_type": "display_data"
    }
   ],
   "source": [
    "with utils.GpuUtilProgress(gpu_ids=0) as progbar:\n",
    "    task_id = progbar.add_task(\"[cyan]Inference\", total=len(dataset))\n",
    "\n",
    "    outputs = []\n",
    "    for y in do_some_inference(model, dataset):\n",
    "        outputs.append(y)\n",
    "        progbar.update(task_id, advance=len(y))\n",
    "\n",
    "output = np.concatenate(outputs, axis=0)"
   ]
  },
  {
   "cell_type": "markdown",
   "id": "aebc980d",
   "metadata": {
    "slideshow": {
     "slide_type": "subslide"
    }
   },
   "source": [
    "- Not very well! GPUs are expensive, can we improve things via parallel execution (assuming we can't change the batch size)?\n",
    "- First attempt: Naive (and sloppy) implementation using threading"
   ]
  },
  {
   "cell_type": "code",
   "execution_count": 6,
   "id": "d7c22113",
   "metadata": {},
   "outputs": [
    {
     "data": {
      "application/vnd.jupyter.widget-view+json": {
       "model_id": "02e2442b1c944d09a69dd85d2d6343b0",
       "version_major": 2,
       "version_minor": 0
      },
      "text/plain": [
       "Output()"
      ]
     },
     "metadata": {},
     "output_type": "display_data"
    }
   ],
   "source": [
    "q = Queue()\n",
    "def task(dataset_chunk):\n",
    "    model = MLP(INPUT_SIZE, HIDDEN_SIZES).cuda(0)\n",
    "    model.load_state_dict(torch.load(\"model.pt\"))\n",
    "\n",
    "    for y in do_some_inference(model, dataset_chunk):\n",
    "        q.put(y)\n",
    "\n",
    "with utils.GpuUtilProgress(0) as progbar, ThreadPoolExecutor(4) as pool:\n",
    "    task_id = progbar.add_task(\"Inference with 4 jobs\", total=len(dataset))\n",
    "    [pool.submit(task, x) for x in np.array_split(dataset, 4)]\n",
    "\n",
    "    outputs = []\n",
    "    while len(outputs) < len(dataset):\n",
    "        y = q.get()\n",
    "        progbar.update(task_id, advance=len(y))\n",
    "        outputs.extend(y)"
   ]
  },
  {
   "cell_type": "markdown",
   "id": "42d2946d",
   "metadata": {
    "slideshow": {
     "slide_type": "subslide"
    }
   },
   "source": [
    "Not much help. What next?\n",
    "\n",
    "After spending a few hours perusing the PyTorch documentation, we come up with the following basic functional implementation:"
   ]
  },
  {
   "cell_type": "code",
   "execution_count": 7,
   "id": "200d0109",
   "metadata": {
    "slideshow": {
     "slide_type": "fragment"
    }
   },
   "outputs": [],
   "source": [
    "def parallel_inference(X, num_gpus, jobs_per_gpu, progbar):\n",
    "    num_jobs = num_gpus * jobs_per_gpu\n",
    "    task_id = progbar.add_task(\n",
    "        f\"[cyan]{num_gpus} GPUs/{num_jobs} jobs\",\n",
    "        total=len(X),\n",
    "        start=False\n",
    "    )\n",
    "\n",
    "    # we need special queue and value objects\n",
    "    # specific to process spawning\n",
    "    smp = torch.multiprocessing.get_context(\"spawn\")\n",
    "    q = smp.Queue()\n",
    "    sync = smp.Value(\"d\", 0.0)\n",
    "\n",
    "    # pass a bunch of arguments into each\n",
    "    # process that we need to spawn\n",
    "    # note that we have to pass copies of some\n",
    "    # of our local functions that live in `utils`\n",
    "    # since we can't unpickle elsewhere functions\n",
    "    # which are defined in __main__\n",
    "    args = (\n",
    "        X,  # the full dataset\n",
    "        utils.MLP,  # the module class to use for inference\n",
    "        [INPUT_SIZE, HIDDEN_SIZES],  # arguments to initialize the module\n",
    "        utils.do_some_inference,  # the inference funcntion to use\n",
    "        q,  # the queue to put the results in\n",
    "        sync,  # a task synchronizer\n",
    "        jobs_per_gpu,\n",
    "        num_gpus\n",
    "    )\n",
    "\n",
    "    # spawn parallel jobs across all GPUs.\n",
    "    # We have to host the `parallel_inference_task` function\n",
    "    # in a separate module for the same pickling pickle\n",
    "    # described above\n",
    "    procs = torch.multiprocessing.spawn(\n",
    "        utils.parallel_inference_task,\n",
    "        args=args,\n",
    "        nprocs=num_jobs,\n",
    "        join=False\n",
    "    )\n",
    "\n",
    "    # wait to synchronize until all models load\n",
    "    # so that we can compare throughput better\n",
    "    while sync.value < num_jobs:\n",
    "        time.sleep(0.01)\n",
    "\n",
    "    # increment the synchronizer one more\n",
    "    # time to kick off the jobs\n",
    "    sync.value += 1\n",
    "    progbar.start_task(task_id)\n",
    "\n",
    "    # collect all the (unordered) inputs\n",
    "    outputs = []\n",
    "    while True:\n",
    "        try:\n",
    "            # try to get the next result in\n",
    "            # in the queue and increment everything\n",
    "            y = q.get_nowait()\n",
    "            progbar.update(task_id, advance=len(y))\n",
    "            outputs.append(y)\n",
    "        except Empty:\n",
    "            # if there's nothing in the queue and\n",
    "            # all the jobs are dead, we're done\n",
    "            if procs.join(0.01):\n",
    "                break\n",
    "\n",
    "    # concatenate the outputs and return\n",
    "    return np.concatenate(outputs, axis=0)"
   ]
  },
  {
   "cell_type": "markdown",
   "id": "cda6fcf9",
   "metadata": {
    "slideshow": {
     "slide_type": "subslide"
    }
   },
   "source": [
    "Run this at a few different scales to see what we can achieve:"
   ]
  },
  {
   "cell_type": "code",
   "execution_count": 8,
   "id": "b1355e87",
   "metadata": {
    "slideshow": {
     "slide_type": "-"
    }
   },
   "outputs": [
    {
     "data": {
      "application/vnd.jupyter.widget-view+json": {
       "model_id": "4af3c8246b4648a5a25635d6c6f78905",
       "version_major": 2,
       "version_minor": 0
      },
      "text/plain": [
       "Output()"
      ]
     },
     "metadata": {},
     "output_type": "display_data"
    }
   ],
   "source": [
    "with utils.GpuUtilProgress([0, 1]) as progbar:\n",
    "    y = parallel_inference(dataset, num_gpus=1, jobs_per_gpu=2, progbar=progbar)\n",
    "    y = parallel_inference(dataset, num_gpus=1, jobs_per_gpu=4, progbar=progbar)\n",
    "    y = parallel_inference(dataset, num_gpus=2, jobs_per_gpu=4, progbar=progbar)"
   ]
  },
  {
   "cell_type": "markdown",
   "id": "a425f180",
   "metadata": {
    "slideshow": {
     "slide_type": "subslide"
    }
   },
   "source": [
    "It manages to increase GPU utilization pretty well! But:\n",
    "- Framework specific\n",
    "    - No help if we want to extend to other frameworks\n",
    "    - Torch is pretty unique in having this functionality at all\n",
    "- The code is complicated and required a lot of non-physics expertise to build\n",
    "    - Non-trivial to reconstruct for new applications\n",
    "- Extremely contrived example, breaks down in most real use cases\n",
    "    - Explore a few cases to show how"
   ]
  },
  {
   "cell_type": "markdown",
   "id": "ae3aa3e3",
   "metadata": {
    "slideshow": {
     "slide_type": "subslide"
    }
   },
   "source": [
    "## Throughput too low\n",
    "#### _The constraints of our use case demand that we further reduce processing time by an order of magnitude_\n",
    "- Not obvious how to simply extend this code to multi-node\n",
    "- Scaling not dynamic\n",
    "    - Have to pick a level of parallelism and hope the resources are available to use it"
   ]
  },
  {
   "cell_type": "markdown",
   "id": "22b65e07",
   "metadata": {
    "slideshow": {
     "slide_type": "subslide"
    }
   },
   "source": [
    "## Throughput too high\n",
    "####  _Data generation process is slow, needs to be parallelized to saturate GPU throughput_"
   ]
  },
  {
   "cell_type": "code",
   "execution_count": 9,
   "id": "7e196bcc",
   "metadata": {},
   "outputs": [],
   "source": [
    "class ThrottledDataset(torch.utils.data.IterableDataset):\n",
    "    def __init__(self, x, device_index=0):\n",
    "        self.x = torch.from_numpy(x).cuda(device_index)\n",
    "\n",
    "    def __iter__(self):\n",
    "        self.it = iter(self.x)\n",
    "        return self\n",
    "\n",
    "    def __next__(self):\n",
    "        x = next(self.it)\n",
    "        time.sleep(0.001)\n",
    "        return x\n",
    "\n",
    "\n",
    "@torch.no_grad()\n",
    "def do_some_throttled_inference(model, dataset, batch_size=8, device_index=0):\n",
    "    gpu_dataset = ThrottledDataset(dataset, device_index)\n",
    "    for x in torch.utils.data.DataLoader(gpu_dataset, batch_size=batch_size):\n",
    "        y = model(x)\n",
    "        yield y.cpu().numpy()"
   ]
  },
  {
   "cell_type": "markdown",
   "id": "51590789",
   "metadata": {
    "slideshow": {
     "slide_type": "subslide"
    }
   },
   "source": [
    "## Throughput too high\n",
    "Reimplement parallel inference with our new inference function"
   ]
  },
  {
   "cell_type": "code",
   "execution_count": 10,
   "id": "d771c527",
   "metadata": {
    "slideshow": {
     "slide_type": "-"
    }
   },
   "outputs": [],
   "source": [
    "def throttled_parallel_inference(X, num_gpus, jobs_per_gpu, progbar):\n",
    "    num_jobs = num_gpus * jobs_per_gpu\n",
    "    task_id = progbar.add_task(\n",
    "        f\"[cyan]{num_gpus} GPUs/{num_jobs} jobs\",\n",
    "        total=len(X),\n",
    "        start=False\n",
    "    )\n",
    "\n",
    "    # we need special queue and value objects\n",
    "    # specific to process spawning\n",
    "    smp = torch.multiprocessing.get_context(\"spawn\")\n",
    "    q = smp.Queue()\n",
    "    sync = smp.Value(\"d\", 0.0)\n",
    "\n",
    "    # pass a bunch of arguments into each\n",
    "    # process that we need to spawn\n",
    "    # note that we have to pass copies of some\n",
    "    # of our local functions that live in `utils`\n",
    "    # since we can't pickle functions defined\n",
    "    # in __main__\n",
    "    args = (\n",
    "        X,  # the full dataset\n",
    "        utils.MLP,  # the module class to use for inference\n",
    "        [INPUT_SIZE, HIDDEN_SIZES],  # arguments to initialize the module\n",
    "        utils.do_some_throttled_inference,  # the inference funcntion to use\n",
    "        q,  # the queue to put the results in\n",
    "        sync,  # a task synchronizer\n",
    "        jobs_per_gpu,\n",
    "        num_gpus\n",
    "    )\n",
    "\n",
    "    # spawn a bunch of parallel jobs across all GPUs\n",
    "    # have to host the `parallel_inference_task` in\n",
    "    # a separate module for weird multiprocessing reasons\n",
    "    procs = torch.multiprocessing.spawn(\n",
    "        utils.parallel_inference_task,\n",
    "        args=args,\n",
    "        nprocs=num_jobs,\n",
    "        join=False\n",
    "    )\n",
    "\n",
    "    # wait to synchronize until all models load\n",
    "    # so that we can compare throughput better\n",
    "    while sync.value < num_jobs:\n",
    "        time.sleep(0.01)\n",
    "\n",
    "    # increment the starter to kick off the jobs\n",
    "    sync.value += 1\n",
    "    progbar.start_task(task_id)\n",
    "\n",
    "    # collect all the (unordered) inputs\n",
    "    outputs = []\n",
    "    while True:\n",
    "        try:\n",
    "            y = q.get_nowait()\n",
    "            progbar.update(task_id, advance=len(y))\n",
    "            outputs.append(y)\n",
    "        except Empty:\n",
    "            # if there's nothing in the queue and\n",
    "            # all the jobs are dead, we're done\n",
    "            if procs.join(0.01):\n",
    "                break\n",
    "\n",
    "    # concatenate the outputs and return\n",
    "    return np.concatenate(outputs, axis=0)"
   ]
  },
  {
   "cell_type": "markdown",
   "id": "92c0c7cc",
   "metadata": {
    "slideshow": {
     "slide_type": "subslide"
    }
   },
   "source": [
    "## Throughput too high\n",
    "Low GPU utilization with local resources. Scale out or allow other users to leverage spare cycles"
   ]
  },
  {
   "cell_type": "code",
   "execution_count": 11,
   "id": "4a8d086b",
   "metadata": {
    "slideshow": {
     "slide_type": "-"
    }
   },
   "outputs": [
    {
     "data": {
      "application/vnd.jupyter.widget-view+json": {
       "model_id": "10bc20817ae64dc994576638fc9e5d0f",
       "version_major": 2,
       "version_minor": 0
      },
      "text/plain": [
       "Output()"
      ]
     },
     "metadata": {},
     "output_type": "display_data"
    }
   ],
   "source": [
    "x = dataset[:2 * 10**4]  # this will take longer, so just do a few for demo purposes\n",
    "with utils.GpuUtilProgress([0, 1]) as progbar:\n",
    "    y = throttled_parallel_inference(x, 1, 1, progbar=progbar)\n",
    "    y = throttled_parallel_inference(x, 1, 2, progbar=progbar)\n",
    "    y = throttled_parallel_inference(x, 1, 4, progbar=progbar)"
   ]
  },
  {
   "cell_type": "markdown",
   "id": "806a1bd6",
   "metadata": {
    "slideshow": {
     "slide_type": "subslide"
    }
   },
   "source": [
    "## Model ensembling\n",
    "#### _Connecting multiple models in a single pipeline_\n",
    "<div class=\"center\">\n",
    "    <img src=\"images/model_sharing.png\" height=\"auto\" width=\"400px\" class=\"center\" />\n",
    "    <img src=\"images/model_ensemble.png\" height=\"auto\" width=\"400px\" class=\"center\" />\n",
    "</div>"
   ]
  },
  {
   "cell_type": "markdown",
   "id": "473e8efa",
   "metadata": {
    "slideshow": {
     "slide_type": "subslide"
    }
   },
   "source": [
    "## Model ensembling\n",
    "Naive implemenation"
   ]
  },
  {
   "cell_type": "code",
   "execution_count": 12,
   "id": "a25a52d8",
   "metadata": {
    "scrolled": true
   },
   "outputs": [
    {
     "data": {
      "application/vnd.jupyter.widget-view+json": {
       "model_id": "5eb575b7bffc42b5bff2d3d857fd91ff",
       "version_major": 2,
       "version_minor": 0
      },
      "text/plain": [
       "Output()"
      ]
     },
     "metadata": {},
     "output_type": "display_data"
    }
   ],
   "source": [
    "@torch.no_grad()\n",
    "def do_some_multi_model_inference(models, dataset, batch_size=8, device_index=0):\n",
    "    gpu_dataset = torch.from_numpy(dataset).cuda(device_index)\n",
    "    dataset = torch.utils.data.TensorDataset(gpu_dataset)\n",
    "\n",
    "    for [x] in torch.utils.data.DataLoader(dataset, batch_size=batch_size):\n",
    "        for model in models:\n",
    "            x = model(x)\n",
    "        yield x.cpu().numpy()\n",
    "\n",
    "noise_remover = utils.NoiseRemovalModel(INPUT_SIZE, [32, 16]).cuda(0)\n",
    "models = [noise_remover, inference_model]\n",
    "\n",
    "with utils.GpuUtilProgress(0) as progbar:\n",
    "    task_id = progbar.add_task(\"[cyan]Ensemble inference\", total=len(dataset))\n",
    "    for y in do_some_multi_model_inference(models, dataset):\n",
    "        progbar.update(task_id, advance=len(y))"
   ]
  },
  {
   "cell_type": "markdown",
   "id": "8d33b6c1",
   "metadata": {
    "slideshow": {
     "slide_type": "subslide"
    }
   },
   "source": [
    "## Model Ensembling\n",
    "\n",
    "Naive implementation works, but extending to parallel execution efficiently is non-trivial:"
   ]
  },
  {
   "cell_type": "markdown",
   "id": "83f9b050",
   "metadata": {
    "cell_style": "split"
   },
   "source": [
    "- Each model should execute asynchronously\n",
    "- Each model will need _different_ levels of parallelism to alleviate bottlenecks\n",
    "- Models should pass tensors between GPUs to best utilize hardware\n",
    "- If the models utilize different frameworks, this problem becomes exponentially harder"
   ]
  },
  {
   "cell_type": "markdown",
   "id": "38102150",
   "metadata": {
    "cell_style": "split"
   },
   "source": [
    "<figure>\n",
    "    <img src=\"images/bottleneck-both.png\" height=\"auto\" width=\"800px\"/>\n",
    "    <figcaption>Model 1 throughput too high for model 2, need to run more concurrent instances of model 2 to maximize throughput</figcaption>\n",
    "</figure>"
   ]
  },
  {
   "cell_type": "markdown",
   "id": "5d00c689",
   "metadata": {
    "slideshow": {
     "slide_type": "subslide"
    }
   },
   "source": [
    "## Distribution\n",
    "#### _Who do you want to use your model?_\n",
    "\n",
    "- How much expertise should someone need to have to utilize your model in their pipeline?\n",
    "- How much do they need to know about how your model is implemented?\n",
    "- How will they be kept up-to-date when you retrain the model or improve the architecture?\n",
    "    - Will these updates change their pipeline?\n",
    "- What if they don't have access to accelerators?"
   ]
  },
  {
   "cell_type": "markdown",
   "id": "44dfc24a",
   "metadata": {
    "slideshow": {
     "slide_type": "slide"
    }
   },
   "source": [
    "#### Takeaways so far:\n",
    "- Efficiently scheduling cross-platform, multi-GPU, multi-model asynchronous DL inference is hard\n",
    "- Inference is just one piece of your pipeline. Really even just one line:\n",
    "```python\n",
    "y = model(x)\n",
    "```\n",
    "    How and where `model(x)` happens is largely irrelevant to everything else\n",
    "\n",
    "So:\n",
    "- Manage this piece separately to hide these details\n",
    "- Scale it to meet the rate at which you can generate `x`s or how quickly you need `y`s"
   ]
  },
  {
   "cell_type": "markdown",
   "id": "3952356a",
   "metadata": {
    "slideshow": {
     "slide_type": "subslide"
    }
   },
   "source": [
    "## Inference-as-a-Service\n",
    "The **inference-as-a-service** (Iaas) paradigm addresses these issues\n",
    "- Out-of-the-box software optimized for efficiently executing complex asynchronous workloads across devices\n",
    "    - Hardware _and_ framework agnostic\n",
    "- Exposes models for inference to **client** pipelines via standardized APIs\n",
    "    - Pipeline code stays the same even as the model changes or the service moves\n",
    "    - Centralized model repositories keep all clients on the same page\n",
    "- Containerization makes deployments portable to meet workload demands\n",
    "    - Minimizes environment management overhead\n",
    "    - Integration with container management servicse like Kubernetes leads to easy scaling"
   ]
  },
  {
   "cell_type": "markdown",
   "id": "ecf7be1b",
   "metadata": {
    "cell_style": "split",
    "slideshow": {
     "slide_type": "subslide"
    }
   },
   "source": [
    "Traditional pipeline pseudocode\n",
    "```python\n",
    "# need to define the architecture somewhere\n",
    "# that users can get access to it\n",
    "from model_zoo import MyModel\n",
    "\n",
    "# load in some parameters to make sure we\n",
    "# initialize the model correctly\n",
    "with open(\"path/to/init/args.pickle\", \"rb\") as f:\n",
    "    args = pickle.load(f)\n",
    "model = MyModel(**args)\n",
    "\n",
    "# load in the latest checkpoint we know of\n",
    "model.load_weights(\"path/to/latest/weights.h5\")\n",
    "\n",
    "for x in dataset:\n",
    "    # this syntax will differ depending on the framework\n",
    "    x = move_array_to_gpu(x)\n",
    "    y = model(x)\n",
    "    y = move_output_to_cpu(y)\n",
    "    do_downstream_postprocessing(y)\n",
    "```"
   ]
  },
  {
   "cell_type": "markdown",
   "id": "38a35df9",
   "metadata": {
    "cell_style": "split"
   },
   "source": [
    "Iaas\n",
    "```python\n",
    "import tritonclient.grpc as triton\n",
    "\n",
    "# connect to the service at some url\n",
    "# pipeline never needs to touch model itself\n",
    "client = triton.InferenceServerClient(\"0.0.0.0:8001\")\n",
    "\n",
    "# build a protobuf message representing the input\n",
    "metadata = client.get_model_metadata(\"my_model\").inputs[0]\n",
    "input = triton.InferInput(\n",
    "    metadata.name, metadata.shape, metadata.datatype\n",
    ")\n",
    "\n",
    "for x in dataset:\n",
    "    input.set_data_from_numpy(x)\n",
    "\n",
    "    # use the latest available version of the model\n",
    "    y = client.infer(\"my_model\", inputs=[input])\n",
    "    do_downstream_postprocessing(y)\n",
    "```"
   ]
  },
  {
   "cell_type": "markdown",
   "id": "792cb114",
   "metadata": {
    "cell_style": "split",
    "slideshow": {
     "slide_type": "subslide"
    }
   },
   "source": [
    "The difference is that, _as is_, this code gets you:\n",
    "- As much scale as you want\n",
    "- on whatever hardware you want\n",
    "- using whatever backend framework you want\n",
    "- wherever you want\n",
    "- and can receive updates without interrupting service"
   ]
  },
  {
   "cell_type": "markdown",
   "id": "fbbd99ee",
   "metadata": {
    "cell_style": "split"
   },
   "source": [
    "```python\n",
    "import tritonclient.grpc as triton\n",
    "\n",
    "# connect to the service at some url\n",
    "# pipeline never needs to touch model itself\n",
    "client = triton.InferenceServerClient(\"0.0.0.0:8001\")\n",
    "\n",
    "# build a protobuf message representing the input\n",
    "metadata = client.get_model_metadata(\"my_model\").inputs[0]\n",
    "input = triton.InferInput(\n",
    "    metadata.name, metadata.shape, metadata.datatype\n",
    ")\n",
    "\n",
    "for x in dataset:\n",
    "    input.set_data_from_numpy(x)\n",
    "\n",
    "    # use the latest available version of the model\n",
    "    y = client.infer(\"my_model\", inputs=[input])\n",
    "    do_downstream_postprocessing(y)\n",
    "```"
   ]
  },
  {
   "cell_type": "code",
   "execution_count": 13,
   "id": "be016d35",
   "metadata": {
    "slideshow": {
     "slide_type": "subslide"
    }
   },
   "outputs": [
    {
     "data": {
      "text/plain": [
       "name: \"my-model\"\n",
       "platform: \"onnxruntime_onnx\""
      ]
     },
     "execution_count": 13,
     "metadata": {},
     "output_type": "execute_result"
    }
   ],
   "source": [
    "from gravswell import quiver as qv\n",
    "\n",
    "repo = qv.ModelRepository(\"my-repo\")\n",
    "entry = repo.add(\"my-model\", platform=qv.Platform.ONNX)\n",
    "entry.config"
   ]
  },
  {
   "cell_type": "code",
   "execution_count": 14,
   "id": "5bb88bf8",
   "metadata": {},
   "outputs": [
    {
     "data": {
      "text/plain": [
       "name: \"my-model\"\n",
       "platform: \"onnxruntime_onnx\"\n",
       "input {\n",
       "  name: \"x\"\n",
       "  data_type: TYPE_FP32\n",
       "  dims: -1\n",
       "  dims: 64\n",
       "}\n",
       "output {\n",
       "  name: \"y\"\n",
       "  data_type: TYPE_FP32\n",
       "  dims: -1\n",
       "  dims: 1\n",
       "}"
      ]
     },
     "execution_count": 14,
     "metadata": {},
     "output_type": "execute_result"
    }
   ],
   "source": [
    "inference_model.to(\"cpu\")\n",
    "export_path = entry.export_version(\n",
    "    inference_model,\n",
    "    input_shapes={\"x\": (None, INPUT_SIZE)},\n",
    "    output_names=[\"y\"]\n",
    ")\n",
    "entry.config"
   ]
  },
  {
   "cell_type": "code",
   "execution_count": 15,
   "id": "fa8cd78f",
   "metadata": {},
   "outputs": [
    {
     "name": "stdout",
     "output_type": "stream",
     "text": [
      "my-repo/\n",
      "    my-model/\n",
      "        1/\n",
      "            model.onnx\n",
      "        config.pbtxt\n"
     ]
    }
   ],
   "source": [
    "utils.print_tree(\"my-repo\")"
   ]
  },
  {
   "cell_type": "code",
   "execution_count": 16,
   "id": "8451e572",
   "metadata": {},
   "outputs": [
    {
     "name": "stdout",
     "output_type": "stream",
     "text": [
      "my-repo/\n",
      "    my-model/\n",
      "        1/\n",
      "            model.onnx\n",
      "        2/\n",
      "            model.onnx\n",
      "        config.pbtxt\n"
     ]
    }
   ],
   "source": [
    "entry.export_version(inference_model)\n",
    "utils.print_tree(\"my-repo\")"
   ]
  },
  {
   "cell_type": "code",
   "execution_count": 17,
   "id": "42cb4e70",
   "metadata": {},
   "outputs": [
    {
     "data": {
      "text/plain": [
       "name: \"my-model\"\n",
       "platform: \"onnxruntime_onnx\"\n",
       "input {\n",
       "  name: \"x\"\n",
       "  data_type: TYPE_FP32\n",
       "  dims: -1\n",
       "  dims: 64\n",
       "}\n",
       "output {\n",
       "  name: \"y\"\n",
       "  data_type: TYPE_FP32\n",
       "  dims: -1\n",
       "  dims: 1\n",
       "}\n",
       "instance_group {\n",
       "  count: 4\n",
       "  kind: KIND_GPU\n",
       "}"
      ]
     },
     "execution_count": 17,
     "metadata": {},
     "output_type": "execute_result"
    }
   ],
   "source": [
    "entry.config.add_instance_group(count=4)\n",
    "entry.config"
   ]
  },
  {
   "cell_type": "code",
   "execution_count": 18,
   "id": "dc138758",
   "metadata": {},
   "outputs": [],
   "source": [
    "repo.delete()"
   ]
  },
  {
   "cell_type": "code",
   "execution_count": 19,
   "id": "61509226",
   "metadata": {},
   "outputs": [
    {
     "name": "stdout",
     "output_type": "stream",
     "text": [
      "gs://ligo-quiver-demo/my-model/config.pbtxt\r\n",
      "gs://ligo-quiver-demo/my-model/1/\r\n"
     ]
    }
   ],
   "source": [
    "repo = qv.ModelRepository(\"gs://ligo-quiver-demo\")\n",
    "entry = repo.add(\"my-model\", platform=qv.Platform.ONNX)\n",
    "entry.config.add_instance_group(count=4)\n",
    "export_path = entry.export_version(\n",
    "    inference_model,\n",
    "    input_shapes={\"x\": (None, INPUT_SIZE)},\n",
    "    output_names=[\"y\"]\n",
    ")\n",
    "! gsutil ls gs://ligo-quiver-demo/my-model"
   ]
  },
  {
   "cell_type": "code",
   "execution_count": 20,
   "id": "dba2d38e",
   "metadata": {},
   "outputs": [
    {
     "data": {
      "application/vnd.jupyter.widget-view+json": {
       "model_id": "7699d1fde652490099df73ccad36ef47",
       "version_major": 2,
       "version_minor": 0
      },
      "text/plain": [
       "Output()"
      ]
     },
     "metadata": {},
     "output_type": "display_data"
    }
   ],
   "source": [
    "from gravswell.cloudbreak import google as cb\n",
    "from google.cloud import container_v1 as container\n",
    "\n",
    "manager = cb.ClusterManager(project=\"gunny-multi-instance-dev\", zone=\"us-east4-b\")\n",
    "\n",
    "cluster_config = container.Cluster(\n",
    "    name=\"ligo-demo-cluster\",\n",
    "    node_pools=[container.NodePool(\n",
    "        name=\"default-pool\",\n",
    "        initial_node_count=2,\n",
    "        config=container.NodeConfig()\n",
    "    )]\n",
    ")\n",
    "cluster = manager.create_resource(cluster_config)\n",
    "cluster.deploy_gpu_drivers()"
   ]
  },
  {
   "cell_type": "code",
   "execution_count": 21,
   "id": "eac98e41",
   "metadata": {},
   "outputs": [
    {
     "data": {
      "application/vnd.jupyter.widget-view+json": {
       "model_id": "6c12f3632b2c493189ea485751c72ef6",
       "version_major": 2,
       "version_minor": 0
      },
      "text/plain": [
       "Output()"
      ]
     },
     "metadata": {},
     "output_type": "display_data"
    }
   ],
   "source": [
    "node_pool_config = container.NodePool(\n",
    "    name=\"tritonserver-t4-pool\",\n",
    "    initial_node_count=1,\n",
    "    config=cb.create_gpu_node_pool_config(\n",
    "        vcpus=16,\n",
    "        gpus=4,\n",
    "        gpu_type=\"t4\"\n",
    "    )\n",
    ")\n",
    "node_pool = cluster.create_resource(node_pool_config)"
   ]
  },
  {
   "cell_type": "code",
   "execution_count": 22,
   "id": "de22b31b",
   "metadata": {},
   "outputs": [
    {
     "data": {
      "application/vnd.jupyter.widget-view+json": {
       "model_id": "aeba11cca18b4035a168d57450d38be0",
       "version_major": 2,
       "version_minor": 0
      },
      "text/plain": [
       "Output()"
      ]
     },
     "metadata": {},
     "output_type": "display_data"
    }
   ],
   "source": [
    "cluster.deploy(\n",
    "    \"triton.yaml\",\n",
    "    name=\"tritonserver\",\n",
    "    tag=\"20.11\",\n",
    "    bucket=\"ligo-quiver-demo\",\n",
    "    gpus=4,\n",
    "    vcpus=15  # at least come cpu has to go to running kubernetes\n",
    ")\n",
    "cluster.k8s_client.wait_for_deployment(\"tritonserver\")"
   ]
  },
  {
   "cell_type": "code",
   "execution_count": 23,
   "id": "4bf4c46a",
   "metadata": {},
   "outputs": [
    {
     "data": {
      "application/vnd.jupyter.widget-view+json": {
       "model_id": "4c7bc2dfe49d4b269c834409b19e76f6",
       "version_major": 2,
       "version_minor": 0
      },
      "text/plain": [
       "Output()"
      ]
     },
     "metadata": {},
     "output_type": "display_data"
    }
   ],
   "source": [
    "import tritonclient.grpc as triton\n",
    "\n",
    "ip = cluster.k8s_client.wait_for_service(\"tritonserver\")\n",
    "client = triton.InferenceServerClient(f\"{ip}:8001\")\n",
    "assert client.is_server_live()\n",
    "assert client.is_model_ready(\"my-model\")"
   ]
  },
  {
   "cell_type": "code",
   "execution_count": 24,
   "id": "c83081a3",
   "metadata": {},
   "outputs": [
    {
     "data": {
      "application/vnd.jupyter.widget-view+json": {
       "model_id": "55c51032d0aa4b398a7e4bb652959e2f",
       "version_major": 2,
       "version_minor": 0
      },
      "text/plain": [
       "Output()"
      ]
     },
     "metadata": {},
     "output_type": "display_data"
    }
   ],
   "source": [
    "batch_size = 8\n",
    "\n",
    "metadata = client.get_model_metadata(\"my-model\").inputs[0]\n",
    "shape = [i if i != -1 else batch_size for i in metadata.shape]\n",
    "input = triton.InferInput(metadata.name, shape, metadata.datatype)\n",
    "\n",
    "with utils.GpuUtilProgress() as progress:\n",
    "    task_id = progress.add_task(\"Inference\", total=len(dataset))\n",
    "    def callback(result, error):\n",
    "        y = result.as_numpy(\"y\")\n",
    "        progress.update(task_id, advance=len(y))\n",
    "\n",
    "    num_batches = len(dataset) // batch_size\n",
    "    for x in np.split(dataset, num_batches):\n",
    "        input.set_data_from_numpy(x)\n",
    "        client.async_infer(\"my-model\", inputs=[input], callback=callback)\n",
    "\n",
    "    while not progress._tasks[task_id].finished:\n",
    "        time.sleep(0.1)"
   ]
  }
 ],
 "metadata": {
  "celltoolbar": "Slideshow",
  "kernelspec": {
   "display_name": "Python 3 (ipykernel)",
   "language": "python",
   "name": "python3"
  },
  "language_info": {
   "codemirror_mode": {
    "name": "ipython",
    "version": 3
   },
   "file_extension": ".py",
   "mimetype": "text/x-python",
   "name": "python",
   "nbconvert_exporter": "python",
   "pygments_lexer": "ipython3",
   "version": "3.9.1"
  },
  "rise": {
   "autolaunch": true,
   "enable_chalkboard": true,
   "scroll": true,
   "slideNumber": true,
   "theme": "simple"
  }
 },
 "nbformat": 4,
 "nbformat_minor": 5
}
