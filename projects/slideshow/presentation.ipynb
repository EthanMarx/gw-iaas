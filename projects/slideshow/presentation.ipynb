{
 "cells": [
  {
   "cell_type": "markdown",
   "id": "d22a8f06",
   "metadata": {
    "slideshow": {
     "slide_type": "slide"
    }
   },
   "source": [
    "# Using Deep Learning Models in Gravitational Wave Physics"
   ]
  },
  {
   "cell_type": "markdown",
   "id": "2fa8b81c",
   "metadata": {
    "slideshow": {
     "slide_type": "subslide"
    }
   },
   "source": [
    "Start with some imports"
   ]
  },
  {
   "cell_type": "code",
   "execution_count": 1,
   "id": "3fabf2f3",
   "metadata": {
    "slideshow": {
     "slide_type": "-"
    }
   },
   "outputs": [],
   "source": [
    "import time\n",
    "from concurrent.futures import ThreadPoolExecutor\n",
    "from queue import Empty, Queue\n",
    "\n",
    "import numpy as np\n",
    "import torch\n",
    "\n",
    "import utils"
   ]
  },
  {
   "cell_type": "code",
   "execution_count": 2,
   "id": "d430f656",
   "metadata": {
    "cell_style": "center",
    "slideshow": {
     "slide_type": "subslide"
    }
   },
   "outputs": [],
   "source": [
    "class MLP(torch.nn.Module):\n",
    "    def __init__(self, input_size, hidden_sizes):\n",
    "        super().__init__()\n",
    "\n",
    "        self.layers = torch.nn.ModuleList()\n",
    "        for size in hidden_sizes:\n",
    "            self.layers.append(torch.nn.Linear(input_size, size))\n",
    "            self.layers.append(torch.nn.ReLU())\n",
    "            input_size = size\n",
    "\n",
    "        self.layers.append(torch.nn.Linear(input_size, 1))\n",
    "        self.layers.append(torch.nn.Sigmoid())\n",
    "\n",
    "    def forward(self, x):\n",
    "        for layer in self.layers:\n",
    "            x = layer(x)\n",
    "        return x"
   ]
  },
  {
   "cell_type": "markdown",
   "id": "f0d06e6f",
   "metadata": {
    "slideshow": {
     "slide_type": "subslide"
    }
   },
   "source": [
    "Use the model for inference in the normal way"
   ]
  },
  {
   "cell_type": "code",
   "execution_count": 3,
   "id": "858cd8bc",
   "metadata": {
    "slideshow": {
     "slide_type": "-"
    }
   },
   "outputs": [
    {
     "data": {
      "text/plain": [
       "array([0.50555277], dtype=float32)"
      ]
     },
     "execution_count": 3,
     "metadata": {},
     "output_type": "execute_result"
    }
   ],
   "source": [
    "model = MLP(64, [256, 128, 64])\n",
    "\n",
    "x = np.random.randn(64).astype(\"float32\")\n",
    "with torch.no_grad():\n",
    "    y = model(torch.tensor(x))\n",
    "y.numpy()"
   ]
  },
  {
   "cell_type": "markdown",
   "id": "79835408",
   "metadata": {
    "slideshow": {
     "slide_type": "subslide"
    }
   },
   "source": [
    "Save and load the model to use at our leisure"
   ]
  },
  {
   "cell_type": "code",
   "execution_count": 4,
   "id": "19cc1a04",
   "metadata": {},
   "outputs": [],
   "source": [
    "torch.save(model.state_dict(), \"model.pt\")\n",
    "\n",
    "model = MLP(64, [256, 128, 64])\n",
    "with torch.no_grad():\n",
    "    y_new = model(torch.tensor(x))\n",
    "assert y_new != y\n",
    "\n",
    "model.load_state_dict(torch.load(\"model.pt\"))\n",
    "with torch.no_grad():\n",
    "    y_new = model(torch.tensor(x))\n",
    "assert y_new == y"
   ]
  },
  {
   "cell_type": "markdown",
   "id": "c40c846d",
   "metadata": {
    "slideshow": {
     "slide_type": "subslide"
    }
   },
   "source": [
    "Inference on a chunk of data in batches"
   ]
  },
  {
   "cell_type": "code",
   "execution_count": 5,
   "id": "0b55ac3d",
   "metadata": {
    "slideshow": {
     "slide_type": "-"
    }
   },
   "outputs": [],
   "source": [
    "@torch.no_grad()\n",
    "def do_some_inference(model, X, batch_size=8):\n",
    "    dataset = torch.utils.data.TensorDataset(torch.tensor(X))\n",
    "    for [x] in torch.utils.data.DataLoader(dataset, batch_size=batch_size):\n",
    "        y = model(x)\n",
    "        yield y.numpy()"
   ]
  },
  {
   "cell_type": "code",
   "execution_count": 6,
   "id": "871dcaac",
   "metadata": {
    "slideshow": {
     "slide_type": "subslide"
    }
   },
   "outputs": [
    {
     "data": {
      "application/vnd.jupyter.widget-view+json": {
       "model_id": "e9674b1acfa348d0864cf191f20101c7",
       "version_major": 2,
       "version_minor": 0
      },
      "text/plain": [
       "Output()"
      ]
     },
     "metadata": {},
     "output_type": "display_data"
    },
    {
     "data": {
      "text/html": [
       "<pre style=\"white-space:pre;overflow-x:auto;line-height:normal;font-family:Menlo,'DejaVu Sans Mono',consolas,'Courier New',monospace\"><span style=\"color: #7fbfbf; text-decoration-color: #7fbfbf\">[07:55:31] </span><span style=\"font-weight: bold\">(</span><span style=\"color: #008080; text-decoration-color: #008080; font-weight: bold\">100000</span>, <span style=\"color: #008080; text-decoration-color: #008080; font-weight: bold\">1</span><span style=\"font-weight: bold\">)</span>                                  <a href=\"file://C:\\Users\\amacg\\AppData\\Local\\Temp\\ipykernel_34348\\2525482730.py\"><span style=\"color: #7f7f7f; text-decoration-color: #7f7f7f\">Temp/ipykernel_34348/2525482730.py</span></a><span style=\"color: #7f7f7f; text-decoration-color: #7f7f7f\">:10</span>\n",
       "</pre>\n"
      ],
      "text/plain": [
       "\u001b[2;36m[07:55:31]\u001b[0m\u001b[2;36m \u001b[0m\u001b[1m(\u001b[0m\u001b[1;36m100000\u001b[0m, \u001b[1;36m1\u001b[0m\u001b[1m)\u001b[0m                                  \u001b]8;id=68539;file://C:\\Users\\amacg\\AppData\\Local\\Temp\\ipykernel_34348\\2525482730.py\u001b\\\u001b[2mTemp/ipykernel_34348/2525482730.py\u001b[0m\u001b]8;;\u001b\\\u001b[2m:10\u001b[0m\n"
      ]
     },
     "metadata": {},
     "output_type": "display_data"
    }
   ],
   "source": [
    "X = np.random.randn(100000, 64).astype(\"float32\")\n",
    "with utils.get_progbar() as progbar:\n",
    "    task_id = progbar.add_task(\"[cyan]Inference\", total=len(X))\n",
    "    outputs = []\n",
    "    for y in do_some_inference(model, X):\n",
    "        outputs.append(y)\n",
    "        progbar.update(task_id, advance=len(y))\n",
    "\n",
    "    output = np.concatenate(outputs, axis=0)\n",
    "    progbar.console.log(output.shape)"
   ]
  },
  {
   "cell_type": "code",
   "execution_count": 7,
   "id": "c8f73d9d",
   "metadata": {
    "slideshow": {
     "slide_type": "subslide"
    }
   },
   "outputs": [],
   "source": [
    "def parallel_inference_task(q, X):\n",
    "    model = MLP(64, [256, 128, 64])\n",
    "    model.eval()\n",
    "    for y in do_some_inference(model, X):\n",
    "        q.put(y)"
   ]
  },
  {
   "cell_type": "code",
   "execution_count": 8,
   "id": "edcee287",
   "metadata": {
    "slideshow": {
     "slide_type": "subslide"
    }
   },
   "outputs": [],
   "source": [
    "def parallel_inference(X, num_jobs, progbar):\n",
    "    task_id = progbar.add_task(\n",
    "        f\"[cyan]Inference with {num_jobs} jobs\", total=len(X)\n",
    "    )\n",
    "\n",
    "    q = Queue()\n",
    "    with ThreadPoolExecutor(max_workers=num_jobs) as pool:\n",
    "        for job, x in enumerate(np.array_split(X, num_jobs)):\n",
    "            pool.submit(parallel_inference_task, q, x)\n",
    "\n",
    "        outputs = []\n",
    "        while len(outputs) < len(X):\n",
    "            try:\n",
    "                y = q.get_nowait()\n",
    "                outputs.extend(y)\n",
    "                progbar.update(task_id, advance=len(y))\n",
    "            except Empty:\n",
    "                time.sleep(0.01)\n",
    "        return np.stack(outputs, axis=0)"
   ]
  },
  {
   "cell_type": "code",
   "execution_count": 9,
   "id": "b1355e87",
   "metadata": {
    "slideshow": {
     "slide_type": "subslide"
    }
   },
   "outputs": [
    {
     "data": {
      "application/vnd.jupyter.widget-view+json": {
       "model_id": "03fbc4e8d527454c86c49268ec5d61af",
       "version_major": 2,
       "version_minor": 0
      },
      "text/plain": [
       "Output()"
      ]
     },
     "metadata": {},
     "output_type": "display_data"
    }
   ],
   "source": [
    "with utils.get_progbar() as progbar:\n",
    "    y = parallel_inference(X, 1, progbar)\n",
    "    y = parallel_inference(X, 2, progbar)\n",
    "    y = parallel_inference(X, 4, progbar)"
   ]
  },
  {
   "cell_type": "code",
   "execution_count": null,
   "id": "420c0320",
   "metadata": {},
   "outputs": [],
   "source": []
  }
 ],
 "metadata": {
  "celltoolbar": "Slideshow",
  "kernelspec": {
   "display_name": "Python 3 (ipykernel)",
   "language": "python",
   "name": "python3"
  },
  "language_info": {
   "codemirror_mode": {
    "name": "ipython",
    "version": 3
   },
   "file_extension": ".py",
   "mimetype": "text/x-python",
   "name": "python",
   "nbconvert_exporter": "python",
   "pygments_lexer": "ipython3",
   "version": "3.9.6"
  },
  "rise": {
   "autolaunch": true,
   "enable_chalkboard": true,
   "scroll": true
  }
 },
 "nbformat": 4,
 "nbformat_minor": 5
}
