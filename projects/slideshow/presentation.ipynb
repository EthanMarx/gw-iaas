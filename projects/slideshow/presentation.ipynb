{
 "cells": [
  {
   "cell_type": "markdown",
   "id": "d22a8f06",
   "metadata": {
    "slideshow": {
     "slide_type": "slide"
    }
   },
   "source": [
    "# Enabling Deep Learning in Gravitational Wave Physics With Inference-as-a-Service\n",
    "## Alec Gunny"
   ]
  },
  {
   "cell_type": "markdown",
   "id": "0e4d7326",
   "metadata": {
    "slideshow": {
     "slide_type": "subslide"
    }
   },
   "source": [
    "## Challenges to DL Inference"
   ]
  },
  {
   "cell_type": "markdown",
   "id": "4cb1ad8a",
   "metadata": {},
   "source": []
  },
  {
   "cell_type": "markdown",
   "id": "2fa8b81c",
   "metadata": {
    "slideshow": {
     "slide_type": "subslide"
    }
   },
   "source": [
    "Start with some imports"
   ]
  },
  {
   "cell_type": "code",
   "execution_count": 1,
   "id": "3fabf2f3",
   "metadata": {
    "slideshow": {
     "slide_type": "-"
    }
   },
   "outputs": [],
   "source": [
    "import time\n",
    "from queue import Empty\n",
    "\n",
    "import numpy as np\n",
    "import torch\n",
    "\n",
    "import utils"
   ]
  },
  {
   "cell_type": "markdown",
   "id": "f0d06e6f",
   "metadata": {
    "slideshow": {
     "slide_type": "subslide"
    }
   },
   "source": [
    "Use the model for inference in the normal way"
   ]
  },
  {
   "cell_type": "code",
   "execution_count": 2,
   "id": "858cd8bc",
   "metadata": {
    "slideshow": {
     "slide_type": "-"
    }
   },
   "outputs": [
    {
     "data": {
      "text/plain": [
       "array([0.52460766], dtype=float32)"
      ]
     },
     "execution_count": 2,
     "metadata": {},
     "output_type": "execute_result"
    }
   ],
   "source": [
    "model = utils.MLP(64, [256, 128, 64]).cuda(device=0)\n",
    "\n",
    "x = np.random.randn(64).astype(\"float32\")\n",
    "with torch.no_grad():\n",
    "    y = model(torch.from_numpy(x).cuda(0))\n",
    "y.cpu().numpy()"
   ]
  },
  {
   "cell_type": "markdown",
   "id": "79835408",
   "metadata": {
    "slideshow": {
     "slide_type": "subslide"
    }
   },
   "source": [
    "Save and load the model to use at our leisure"
   ]
  },
  {
   "cell_type": "code",
   "execution_count": 3,
   "id": "19cc1a04",
   "metadata": {},
   "outputs": [],
   "source": [
    "torch.save(model.state_dict(), \"model.pt\")\n",
    "\n",
    "model = utils.MLP(64, [256, 128, 64]).cuda(0)\n",
    "with torch.no_grad():\n",
    "    y_new = model(torch.from_numpy(x).cuda(0))\n",
    "assert y_new != y\n",
    "\n",
    "model.load_state_dict(torch.load(\"model.pt\"))\n",
    "with torch.no_grad():\n",
    "    y_new = model(torch.from_numpy(x).cuda(0))\n",
    "assert y_new == y"
   ]
  },
  {
   "cell_type": "markdown",
   "id": "c40c846d",
   "metadata": {
    "slideshow": {
     "slide_type": "subslide"
    }
   },
   "source": [
    "Inference on a chunk of data in batches"
   ]
  },
  {
   "cell_type": "code",
   "execution_count": 4,
   "id": "0b55ac3d",
   "metadata": {
    "slideshow": {
     "slide_type": "-"
    }
   },
   "outputs": [],
   "source": [
    "@torch.no_grad()\n",
    "def do_some_inference(model, X, batch_size=8):\n",
    "    dataset = torch.utils.data.TensorDataset(torch.from_numpy(X).cuda(0))\n",
    "    for [x] in torch.utils.data.DataLoader(dataset, batch_size=batch_size):\n",
    "        y = model(x)\n",
    "        yield y.cpu().numpy()"
   ]
  },
  {
   "cell_type": "code",
   "execution_count": 5,
   "id": "871dcaac",
   "metadata": {
    "scrolled": true,
    "slideshow": {
     "slide_type": "subslide"
    }
   },
   "outputs": [
    {
     "data": {
      "application/vnd.jupyter.widget-view+json": {
       "model_id": "ce42319661224c89bd1507845b980807",
       "version_major": 2,
       "version_minor": 0
      },
      "text/plain": [
       "Output()"
      ]
     },
     "metadata": {},
     "output_type": "display_data"
    },
    {
     "data": {
      "text/html": [
       "<pre style=\"white-space:pre;overflow-x:auto;line-height:normal;font-family:Menlo,'DejaVu Sans Mono',consolas,'Courier New',monospace\"><span style=\"color: #7fbfbf; text-decoration-color: #7fbfbf\">[21:46:51] </span><span style=\"font-weight: bold\">(</span><span style=\"color: #008080; text-decoration-color: #008080; font-weight: bold\">1000000</span>, <span style=\"color: #008080; text-decoration-color: #008080; font-weight: bold\">1</span><span style=\"font-weight: bold\">)</span>                                                       <a href=\"file:///tmp/ipykernel_21303/820615549.py\"><span style=\"color: #7f7f7f; text-decoration-color: #7f7f7f\">820615549.py</span></a><span style=\"color: #7f7f7f; text-decoration-color: #7f7f7f\">:11</span>\n",
       "</pre>\n"
      ],
      "text/plain": [
       "\u001b[2;36m[21:46:51]\u001b[0m\u001b[2;36m \u001b[0m\u001b[1m(\u001b[0m\u001b[1;36m1000000\u001b[0m, \u001b[1;36m1\u001b[0m\u001b[1m)\u001b[0m                                                       \u001b]8;id=566003;file:///tmp/ipykernel_21303/820615549.py\u001b\\\u001b[2m820615549.py\u001b[0m\u001b]8;;\u001b\\\u001b[2m:11\u001b[0m\n"
      ]
     },
     "metadata": {},
     "output_type": "display_data"
    }
   ],
   "source": [
    "X = np.random.randn(1000000, 64).astype(\"float32\")\n",
    "\n",
    "with utils.get_progbar([0]) as progbar:\n",
    "    task_id = progbar.add_task(\"[cyan]Inference\", total=len(X))\n",
    "    outputs = []\n",
    "    for y in do_some_inference(model, X):\n",
    "        outputs.append(y)\n",
    "        progbar.update(task_id, advance=len(y))\n",
    "\n",
    "    output = np.concatenate(outputs, axis=0)\n",
    "    progbar.console.log(output.shape)"
   ]
  },
  {
   "cell_type": "code",
   "execution_count": 6,
   "id": "200d0109",
   "metadata": {
    "slideshow": {
     "slide_type": "subslide"
    }
   },
   "outputs": [],
   "source": [
    "def parallel_inference(X, num_jobs, progbar):\n",
    "    task_id = progbar.add_task(\n",
    "        f\"[cyan]Inference with {num_jobs} jobs\",\n",
    "        total=len(X),\n",
    "        start=False\n",
    "    )\n",
    "\n",
    "    smp = torch.multiprocessing.get_context(\"spawn\")\n",
    "    q = smp.Queue()\n",
    "    starter = smp.Value(\"d\", 0.0)\n",
    "    procs = torch.multiprocessing.spawn(\n",
    "        utils.parallel_inference_task,\n",
    "        args=(num_jobs, X, q, starter),\n",
    "        nprocs=num_jobs,\n",
    "        join=False\n",
    "    )\n",
    "\n",
    "    while starter.value < num_jobs:\n",
    "        time.sleep(0.01)\n",
    "    progbar.start_task(task_id)\n",
    "    starter.value += 1\n",
    "\n",
    "    outputs = []\n",
    "    while True:\n",
    "        try:\n",
    "            y = q.get_nowait()\n",
    "            progbar.update(task_id, advance=len(y))\n",
    "            outputs.append(y)\n",
    "        except Empty:\n",
    "            if procs.join(0.01):\n",
    "                break\n",
    "\n",
    "    return np.concatenate(outputs, axis=0)"
   ]
  },
  {
   "cell_type": "code",
   "execution_count": 7,
   "id": "b1355e87",
   "metadata": {
    "slideshow": {
     "slide_type": "subslide"
    }
   },
   "outputs": [
    {
     "data": {
      "application/vnd.jupyter.widget-view+json": {
       "model_id": "36b54e1212324fb6b15ec99d4a7a4182",
       "version_major": 2,
       "version_minor": 0
      },
      "text/plain": [
       "Output()"
      ]
     },
     "metadata": {},
     "output_type": "display_data"
    }
   ],
   "source": [
    "with utils.get_progbar([0]) as progbar:\n",
    "    y = parallel_inference(X, 2, progbar)\n",
    "    y = parallel_inference(X, 4, progbar)"
   ]
  },
  {
   "cell_type": "code",
   "execution_count": 8,
   "id": "6d83cec7",
   "metadata": {},
   "outputs": [],
   "source": [
    "def multi_gpu_inference(X, num_gpus, jobs_per_gpu, progbar):\n",
    "    task_id = progbar.add_task(\n",
    "        f\"[cyan]Inference with {num_gpus} GPUs\",\n",
    "        total=len(X),\n",
    "        start=False\n",
    "    )\n",
    "\n",
    "    num_jobs = num_gpus * jobs_per_gpu\n",
    "    smp = torch.multiprocessing.get_context(\"spawn\")\n",
    "    q = smp.Queue()\n",
    "    starter = smp.Value(\"d\", 0.0)\n",
    "    procs = torch.multiprocessing.spawn(\n",
    "        utils.parallel_inference_task,\n",
    "        args=(jobs_per_gpu, X, q, starter, num_gpus),\n",
    "        nprocs=num_jobs,\n",
    "        join=False\n",
    "    )\n",
    "\n",
    "    while starter.value < num_jobs:\n",
    "        time.sleep(0.01)\n",
    "    progbar.start_task(task_id)\n",
    "    starter.value += 1\n",
    "\n",
    "    outputs = []\n",
    "    while True:\n",
    "        try:\n",
    "            y = q.get_nowait()\n",
    "            progbar.update(task_id, advance=len(y))\n",
    "            outputs.append(y)\n",
    "        except Empty:\n",
    "            if procs.join(0.01):\n",
    "                break\n",
    "\n",
    "    return np.concatenate(outputs, axis=0)"
   ]
  },
  {
   "cell_type": "code",
   "execution_count": 9,
   "id": "cabd9476",
   "metadata": {
    "scrolled": false
   },
   "outputs": [
    {
     "data": {
      "application/vnd.jupyter.widget-view+json": {
       "model_id": "15f45047f5cf4efc9a0320c5550ecc7d",
       "version_major": 2,
       "version_minor": 0
      },
      "text/plain": [
       "Output()"
      ]
     },
     "metadata": {},
     "output_type": "display_data"
    }
   ],
   "source": [
    "with utils.get_progbar([0, 1]) as progbar:\n",
    "    y = multi_gpu_inference(X, 2, 4, progbar)"
   ]
  }
 ],
 "metadata": {
  "celltoolbar": "Slideshow",
  "kernelspec": {
   "display_name": "Python 3 (ipykernel)",
   "language": "python",
   "name": "python3"
  },
  "language_info": {
   "codemirror_mode": {
    "name": "ipython",
    "version": 3
   },
   "file_extension": ".py",
   "mimetype": "text/x-python",
   "name": "python",
   "nbconvert_exporter": "python",
   "pygments_lexer": "ipython3",
   "version": "3.9.1"
  },
  "rise": {
   "autolaunch": true,
   "enable_chalkboard": true,
   "scroll": true,
   "theme": "moon"
  }
 },
 "nbformat": 4,
 "nbformat_minor": 5
}
