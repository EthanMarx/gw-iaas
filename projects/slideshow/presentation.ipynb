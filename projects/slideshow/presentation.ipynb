{
 "cells": [
  {
   "cell_type": "markdown",
   "id": "d22a8f06",
   "metadata": {
    "slideshow": {
     "slide_type": "slide"
    }
   },
   "source": [
    "# Enabling Deep Learning in Gravitational Wave Physics With Inference-as-a-Service\n",
    "## Alec Gunny"
   ]
  },
  {
   "cell_type": "markdown",
   "id": "20874eee",
   "metadata": {
    "slideshow": {
     "slide_type": "subslide"
    }
   },
   "source": [
    "## Deep Learning in Gravitational Wave Astronomy\n",
    "<img src=\"images/gw-dl-use-cases.png\" height=\"auto\" width=\"980px\" style=\"top:10px;\"></img>"
   ]
  },
  {
   "cell_type": "markdown",
   "id": "73cebc08",
   "metadata": {
    "slideshow": {
     "slide_type": "subslide"
    }
   },
   "source": [
    "## Inference Time Challenges\n",
    "<div class=\"float200 padded\">\n",
    "    <img src=\"images/hardware-logos.png\" width=\"300px\" height=\"auto\" class=\"right unpadded\"/>\n",
    "    <p class=\"left\">Access to and familiarity with accelerated hardware</p>\n",
    "</div>\n",
    "\n",
    "<div>\n",
    "    <img src=\"images/framework-logos.png\" width=\"300px\" height=\"auto\" class=\"left padded\" />\n",
    "    <p class=\"right\"> Managing, leveraging, and translating across deep learning software stacks\n",
    "</div>\n",
    "\n",
    "<div></div>\n",
    "<div></div>\n",
    "<div class=\"float100\">\n",
    "    <img src=\"images/distributing-nns.png\" width=\"250px\" height=\"auto\" class=\"right unpadded\"/>\n",
    "    <p class=\"left\">Distributing updated models to dependent users and applications</p>\n",
    "</div>"
   ]
  },
  {
   "cell_type": "markdown",
   "id": "785bd3b1",
   "metadata": {
    "slideshow": {
     "slide_type": "slide"
    }
   },
   "source": [
    "## A simple PyTorch example\n",
    "- Naive inference pipeline for a model trained using PyTorch\n",
    "- Pipeline itself loads the model and data onto the GPU and executes inference"
   ]
  },
  {
   "cell_type": "code",
   "execution_count": 1,
   "id": "3fabf2f3",
   "metadata": {
    "cell_style": "center",
    "slideshow": {
     "slide_type": "-"
    }
   },
   "outputs": [],
   "source": [
    "import time\n",
    "from concurrent.futures import ThreadPoolExecutor\n",
    "from queue import Empty, Queue\n",
    "\n",
    "import numpy as np\n",
    "import torch\n",
    "\n",
    "import utils"
   ]
  },
  {
   "cell_type": "markdown",
   "id": "92234296",
   "metadata": {
    "slideshow": {
     "slide_type": "subslide"
    }
   },
   "source": [
    "Instantiate a simple model, \"train\" it, then save it for inference:"
   ]
  },
  {
   "cell_type": "code",
   "execution_count": null,
   "id": "bea2ddc5",
   "metadata": {},
   "outputs": [],
   "source": [
    "class MLP(torch.nn.Module):\n",
    "    def __init__(self, input_size: int, hidden_sizes: Sequence[int]) -> None:\n",
    "        super().__init__()\n",
    "\n",
    "        self.layers = torch.nn.ModuleList()\n",
    "        for size in hidden_sizes:\n",
    "            self.layers.append(torch.nn.Linear(input_size, size))\n",
    "            self.layers.append(torch.nn.ReLU())\n",
    "            input_size = size\n",
    "\n",
    "        self.layers.append(torch.nn.Linear(input_size, 1))\n",
    "        self.layers.append(torch.nn.Sigmoid())\n",
    "\n",
    "    def forward(self, x: torch.tensor) -> torch.tensor:\n",
    "        for layer in self.layers:\n",
    "            x = layer(x)\n",
    "        return x\n",
    "\n",
    "INPUT_SIZE, HIDDEN_SIZES = 64, [256, 128, 64]\n",
    "model = MLP(INPUT_SIZE, HIDDEN_SIZES).cuda(device=0)\n",
    "\n",
    "# do_some_training(model) -> export the trained weights\n",
    "torch.save(model.state_dict(), \"model.pt\")"
   ]
  },
  {
   "cell_type": "markdown",
   "id": "f0d06e6f",
   "metadata": {
    "slideshow": {
     "slide_type": "subslide"
    }
   },
   "source": [
    "At inference time, load in the model weights and use it to map inputs to outputs"
   ]
  },
  {
   "cell_type": "code",
   "execution_count": 2,
   "id": "858cd8bc",
   "metadata": {
    "slideshow": {
     "slide_type": "-"
    }
   },
   "outputs": [
    {
     "data": {
      "text/plain": [
       "array([0.52460766], dtype=float32)"
      ]
     },
     "execution_count": 2,
     "metadata": {},
     "output_type": "execute_result"
    }
   ],
   "source": [
    "new_model = utils.MLP(INPUT_SIZE, HIDDEN_SIZES).cuda(0)\n",
    "new_model.load_state_dict(torch.load(\"model.pt\"))\n",
    "\n",
    "# create an array on the CPU\n",
    "x = np.random.randn(64).astype(\"float32\")\n",
    "with torch.no_grad():\n",
    "    # move it on to the GPU\n",
    "    x = torch.from_numpy(x).cuda(0)\n",
    "\n",
    "    # map it to outputs on the GPU\n",
    "    y = model(x)\n",
    "\n",
    "# move the outputs back on to the CPU\n",
    "y.cpu().numpy()"
   ]
  },
  {
   "cell_type": "markdown",
   "id": "c40c846d",
   "metadata": {
    "slideshow": {
     "slide_type": "subslide"
    }
   },
   "source": [
    "- Generally interested in using the model for many thousands or millions of inferences\n",
    "- Start with the simplest case: a dataset that can fit into memory at once"
   ]
  },
  {
   "cell_type": "code",
   "execution_count": 4,
   "id": "0b55ac3d",
   "metadata": {
    "slideshow": {
     "slide_type": "-"
    }
   },
   "outputs": [],
   "source": [
    "dataset = np.random.randn(10**5, 64).astype(\"float32\")\n",
    "\n",
    "@torch.no_grad()\n",
    "def do_some_inference(model, dataset, batch_size=8):\n",
    "    # move the data to the GPU in bulk\n",
    "    gpu_dataset = torch.from_numpy(dataset.cuda(0))\n",
    "\n",
    "    # iterate through it in batches and yield predictions\n",
    "    dataset = torch.utils.data.TensorDataset(gpu_dataset)\n",
    "    for [x] in torch.utils.data.DataLoader(dataset, batch_size=batch_size):\n",
    "        y = model(x)\n",
    "        yield y.cpu().numpy()\n",
    "\n",
    "# run through the dataset and get a rough time estimate\n",
    "inference_iterator = do_some_inference(new_model, dataset)\n",
    "%timeit outputs = np.concatenate([y for y in inference_iterator])"
   ]
  },
  {
   "cell_type": "markdown",
   "id": "27c72d79",
   "metadata": {
    "slideshow": {
     "slide_type": "subslide"
    }
   },
   "source": [
    "Ok, but how well are we utilizing the GPU?"
   ]
  },
  {
   "cell_type": "code",
   "execution_count": 5,
   "id": "871dcaac",
   "metadata": {
    "scrolled": true,
    "slideshow": {
     "slide_type": "-"
    }
   },
   "outputs": [
    {
     "data": {
      "application/vnd.jupyter.widget-view+json": {
       "model_id": "ce42319661224c89bd1507845b980807",
       "version_major": 2,
       "version_minor": 0
      },
      "text/plain": [
       "Output()"
      ]
     },
     "metadata": {},
     "output_type": "display_data"
    },
    {
     "data": {
      "text/html": [
       "<pre style=\"white-space:pre;overflow-x:auto;line-height:normal;font-family:Menlo,'DejaVu Sans Mono',consolas,'Courier New',monospace\"><span style=\"color: #7fbfbf; text-decoration-color: #7fbfbf\">[21:46:51] </span><span style=\"font-weight: bold\">(</span><span style=\"color: #008080; text-decoration-color: #008080; font-weight: bold\">1000000</span>, <span style=\"color: #008080; text-decoration-color: #008080; font-weight: bold\">1</span><span style=\"font-weight: bold\">)</span>                                                       <a href=\"file:///tmp/ipykernel_21303/820615549.py\"><span style=\"color: #7f7f7f; text-decoration-color: #7f7f7f\">820615549.py</span></a><span style=\"color: #7f7f7f; text-decoration-color: #7f7f7f\">:11</span>\n",
       "</pre>\n"
      ],
      "text/plain": [
       "\u001b[2;36m[21:46:51]\u001b[0m\u001b[2;36m \u001b[0m\u001b[1m(\u001b[0m\u001b[1;36m1000000\u001b[0m, \u001b[1;36m1\u001b[0m\u001b[1m)\u001b[0m                                                       \u001b]8;id=566003;file:///tmp/ipykernel_21303/820615549.py\u001b\\\u001b[2m820615549.py\u001b[0m\u001b]8;;\u001b\\\u001b[2m:11\u001b[0m\n"
      ]
     },
     "metadata": {},
     "output_type": "display_data"
    }
   ],
   "source": [
    "with utils.get_progbar([0]) as progbar:\n",
    "    task_id = progbar.add_task(\"[cyan]Inference\", total=len(dataset))\n",
    "\n",
    "    outputs = []\n",
    "    for y in do_some_inference(model, dataset):\n",
    "        outputs.append(y)\n",
    "        progbar.update(task_id, advance=len(y))\n",
    "\n",
    "output = np.concatenate(outputs, axis=0)"
   ]
  },
  {
   "cell_type": "markdown",
   "id": "aebc980d",
   "metadata": {
    "slideshow": {
     "slide_type": "subslide"
    }
   },
   "source": [
    "- Not very well! GPUs are expensive, can we improve things via parallel execution?\n",
    "- First attempt: Naive (and sloppy) implementation using threading"
   ]
  },
  {
   "cell_type": "code",
   "execution_count": null,
   "id": "d7c22113",
   "metadata": {},
   "outputs": [],
   "source": [
    "q = Queue()\n",
    "def task(dataset_chunk):\n",
    "    model = utils.MLP(64, [256, 128, 64]).cuda(0)\n",
    "    model.load_state_dict(torch.load(\"model.pt\"))\n",
    "\n",
    "    for y in do_some_inference(model, dataset_chunk):\n",
    "        q.put(y)\n",
    "\n",
    "with utils.get_progbar([0]) as progbar, ThreadPoolExecutor(4) as pool:\n",
    "    task_id = progbar.add_task(\"Inference with 4 jobs\", total=len(dataset))\n",
    "    [pool.submit(task, x) for x in np.array_split(dataset, 4)]\n",
    "\n",
    "    outputs = []\n",
    "    while len(outputs) < len(dataset):\n",
    "        y = q.get()\n",
    "        progbar.update(task_id, advance=len(y))\n",
    "        outputs.extend(y)"
   ]
  },
  {
   "cell_type": "markdown",
   "id": "42d2946d",
   "metadata": {
    "slideshow": {
     "slide_type": "subslide"
    }
   },
   "source": [
    "Not much help. What next?\n",
    "\n",
    "After spending a few hours perusing the PyTorch documentation, we come up with the following basic functional implementation:"
   ]
  },
  {
   "cell_type": "code",
   "execution_count": 6,
   "id": "200d0109",
   "metadata": {
    "slideshow": {
     "slide_type": "fragment"
    }
   },
   "outputs": [],
   "source": [
    "def multi_gpu_inference(X, num_gpus, jobs_per_gpu, progbar):\n",
    "    task_id = progbar.add_task(\n",
    "        f\"[cyan]Inference with {num_gpus} GPUs\",\n",
    "        total=len(X),\n",
    "        start=False\n",
    "    )\n",
    "    num_jobs = num_gpus * jobs_per_gpu\n",
    "\n",
    "    # we need special queue and value objects\n",
    "    # specific to process spawning\n",
    "    smp = torch.multiprocessing.get_context(\"spawn\")\n",
    "    q = smp.Queue()\n",
    "    starter = smp.Value(\"d\", 0.0)\n",
    "\n",
    "    # spawn a bunch of parallel jobs across all GPUs\n",
    "    # have to host the `parallel_inference_task` in\n",
    "    # a separate module for weird multiprocessing reasons\n",
    "    procs = torch.multiprocessing.spawn(\n",
    "        utils.parallel_inference_task,\n",
    "        args=(jobs_per_gpu, X, q, starter, num_gpus),\n",
    "        nprocs=num_jobs,\n",
    "        join=False\n",
    "    )\n",
    "\n",
    "    # wait to synchronize until all models load\n",
    "    # so that we can compare throughput better\n",
    "    while starter.value < num_jobs:\n",
    "        time.sleep(0.01)\n",
    "\n",
    "    # increment the starter to kick off the jobs\n",
    "    starter.value += 1\n",
    "    progbar.start_task(task_id)\n",
    "\n",
    "    # collect all the (unordered) inputs\n",
    "    outputs = []\n",
    "    while True:\n",
    "        try:\n",
    "            y = q.get_nowait()\n",
    "            progbar.update(task_id, advance=len(y))\n",
    "            outputs.append(y)\n",
    "        except Empty:\n",
    "            # if there's nothing in the queue and\n",
    "            # all the jobs are dead, we're done\n",
    "            if procs.join(0.01):\n",
    "                break\n",
    "\n",
    "    # concatenate the outputs and return\n",
    "    return np.concatenate(outputs, axis=0)"
   ]
  },
  {
   "cell_type": "markdown",
   "id": "cda6fcf9",
   "metadata": {
    "slideshow": {
     "slide_type": "subslide"
    }
   },
   "source": [
    "Run this at a few different scales to see what we can achieve:"
   ]
  },
  {
   "cell_type": "code",
   "execution_count": 7,
   "id": "b1355e87",
   "metadata": {
    "slideshow": {
     "slide_type": "-"
    }
   },
   "outputs": [
    {
     "data": {
      "application/vnd.jupyter.widget-view+json": {
       "model_id": "36b54e1212324fb6b15ec99d4a7a4182",
       "version_major": 2,
       "version_minor": 0
      },
      "text/plain": [
       "Output()"
      ]
     },
     "metadata": {},
     "output_type": "display_data"
    }
   ],
   "source": [
    "with utils.get_progbar([0, 1]) as progbar:\n",
    "    y = parallel_inference(dataset, num_gpus=1, jobs_per_gpu=2, progbar=progbar)\n",
    "    y = parallel_inference(dataset, num_gpus=1, jobs_per_gpu=4, progbar=progbar)\n",
    "    y = parallel_inference(dataset, num_gpus=2, jobs_per_gpu=4, progbar=progbar)"
   ]
  },
  {
   "cell_type": "markdown",
   "id": "a425f180",
   "metadata": {
    "slideshow": {
     "slide_type": "subslide"
    }
   },
   "source": [
    "It works pretty well! But:\n",
    "- We got lucky: this wouldn't be possible in most other frameworks\n",
    "- The code is complicated and required a lot of non-physics expertise to build\n",
    "    - Non-trivial to reconstruct for new applications\n",
    "- Extremely contrived example, breaks down in most real use cases"
   ]
  },
  {
   "cell_type": "code",
   "execution_count": null,
   "id": "fc22053e",
   "metadata": {},
   "outputs": [],
   "source": []
  }
 ],
 "metadata": {
  "celltoolbar": "Slideshow",
  "kernelspec": {
   "display_name": "Python 3 (ipykernel)",
   "language": "python",
   "name": "python3"
  },
  "language_info": {
   "codemirror_mode": {
    "name": "ipython",
    "version": 3
   },
   "file_extension": ".py",
   "mimetype": "text/x-python",
   "name": "python",
   "nbconvert_exporter": "python",
   "pygments_lexer": "ipython3",
   "version": "3.9.6"
  },
  "rise": {
   "autolaunch": true,
   "enable_chalkboard": true,
   "scroll": true,
   "slideNumber": true,
   "theme": "simple"
  }
 },
 "nbformat": 4,
 "nbformat_minor": 5
}
